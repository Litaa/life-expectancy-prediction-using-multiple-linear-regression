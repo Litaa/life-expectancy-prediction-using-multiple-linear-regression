{
 "cells": [
  {
   "cell_type": "markdown",
   "metadata": {},
   "source": [
    "# Life Expectancy Prediction using Multiple Linear Regression"
   ]
  },
  {
   "cell_type": "markdown",
   "metadata": {},
   "source": [
    "<h2>Introduction</h2>"
   ]
  },
  {
   "cell_type": "markdown",
   "metadata": {},
   "source": [
    "Linear regression is one of types supervised machine learning algorithms which predict continuous value outputs. e.g: house price, car price, medical cost, etc.<br>\n",
    "Term of linear regression refers to relationship between two or more variable, where 'x' is variable predictor as independent variable and 'y' is variable target as dependent variable. Relationship between two variable called Simple Linear Regression, whilst relationship between more than two variable called Multiple Linear Regression. <br>\n",
    "<h4>Simple Linear Regression</h4>\n",
    "If we transform linerity relationship between two variable 'x' and 'y' into plot visualization, it will be shown as below :<br>\n",
    "<img src=\"linearRegression.png\" width=\"500\" /><br>\n",
    "Equation from the above line is:<br>\n",
    "<img src=\"simple.JPG\" width=\"150\"/><br>\n",
    "Where 'b' is the intercept (indicates the location where it intersects an axis) and 'm' is the slope (indicates the steepness of a line). Basically, linear regression algorithm gives us the most optimal value for the intercept and the slope.<br>\n",
    "<h4>Multiple Linear Regression</h4>\n",
    "If simple linear regression only involving two variable, then multiple linear regression involves more that two variable. For example in this notebook, I will present multiple linear regression model which predict life expectancy based on income, death ratio, education, etc. Equation from multiple linear regression is :<br>\n",
    "<img src=\"multiple.JPG\" width=\"500\"/><br>\n",
    "In this case, the dependent variable(target variable) is dependent upon several independent variables."
   ]
  },
  {
   "cell_type": "markdown",
   "metadata": {},
   "source": [
    "<h2>Data Preparation</h2>"
   ]
  },
  {
   "cell_type": "markdown",
   "metadata": {},
   "source": [
    "<h4>Import library</h4>"
   ]
  },
  {
   "cell_type": "code",
   "execution_count": 1,
   "metadata": {
    "ExecuteTime": {
     "end_time": "2020-05-22T23:05:08.605736Z",
     "start_time": "2020-05-22T23:04:40.033365Z"
    }
   },
   "outputs": [],
   "source": [
    "import pandas as pd  \n",
    "import numpy as np  \n",
    "import matplotlib.pyplot as plt  \n",
    "import seaborn as sns \n",
    "from sklearn.model_selection import train_test_split \n",
    "from sklearn.linear_model import LinearRegression\n",
    "from sklearn import metrics\n",
    "from patsy import dmatrices\n",
    "from statsmodels.stats.outliers_influence import variance_inflation_factor\n",
    "from scipy.stats.mstats import winsorize\n",
    "%matplotlib inline\n",
    "pd.set_option('display.float_format', lambda x: '%.3f' % x)"
   ]
  },
  {
   "cell_type": "markdown",
   "metadata": {},
   "source": [
    "<h4>Read the data</h4>"
   ]
  },
  {
   "cell_type": "code",
   "execution_count": 2,
   "metadata": {
    "ExecuteTime": {
     "end_time": "2020-05-22T23:05:08.828456Z",
     "start_time": "2020-05-22T23:05:08.613707Z"
    }
   },
   "outputs": [],
   "source": [
    "data = pd.read_csv('Life Expectancy Data.csv')"
   ]
  },
  {
   "cell_type": "code",
   "execution_count": 3,
   "metadata": {
    "ExecuteTime": {
     "end_time": "2020-05-22T23:05:08.838562Z",
     "start_time": "2020-05-22T23:05:08.831556Z"
    }
   },
   "outputs": [
    {
     "data": {
      "text/plain": [
       "(2938, 22)"
      ]
     },
     "execution_count": 3,
     "metadata": {},
     "output_type": "execute_result"
    }
   ],
   "source": [
    "data.shape"
   ]
  },
  {
   "cell_type": "code",
   "execution_count": 4,
   "metadata": {
    "ExecuteTime": {
     "end_time": "2020-05-22T23:05:09.134672Z",
     "start_time": "2020-05-22T23:05:08.841564Z"
    }
   },
   "outputs": [
    {
     "data": {
      "text/html": [
       "<div>\n",
       "<style scoped>\n",
       "    .dataframe tbody tr th:only-of-type {\n",
       "        vertical-align: middle;\n",
       "    }\n",
       "\n",
       "    .dataframe tbody tr th {\n",
       "        vertical-align: top;\n",
       "    }\n",
       "\n",
       "    .dataframe thead th {\n",
       "        text-align: right;\n",
       "    }\n",
       "</style>\n",
       "<table border=\"1\" class=\"dataframe\">\n",
       "  <thead>\n",
       "    <tr style=\"text-align: right;\">\n",
       "      <th></th>\n",
       "      <th>Country</th>\n",
       "      <th>Year</th>\n",
       "      <th>Status</th>\n",
       "      <th>Life expectancy</th>\n",
       "      <th>Adult Mortality</th>\n",
       "      <th>infant deaths</th>\n",
       "      <th>Alcohol</th>\n",
       "      <th>percentage expenditure</th>\n",
       "      <th>Hepatitis B</th>\n",
       "      <th>Measles</th>\n",
       "      <th>...</th>\n",
       "      <th>Polio</th>\n",
       "      <th>Total expenditure</th>\n",
       "      <th>Diphtheria</th>\n",
       "      <th>HIV/AIDS</th>\n",
       "      <th>GDP</th>\n",
       "      <th>Population</th>\n",
       "      <th>thinness  1-19 years</th>\n",
       "      <th>thinness 5-9 years</th>\n",
       "      <th>Income composition of resources</th>\n",
       "      <th>Schooling</th>\n",
       "    </tr>\n",
       "  </thead>\n",
       "  <tbody>\n",
       "    <tr>\n",
       "      <th>0</th>\n",
       "      <td>Afghanistan</td>\n",
       "      <td>2015</td>\n",
       "      <td>Developing</td>\n",
       "      <td>65.000</td>\n",
       "      <td>263.000</td>\n",
       "      <td>62</td>\n",
       "      <td>0.010</td>\n",
       "      <td>71.280</td>\n",
       "      <td>65.000</td>\n",
       "      <td>1154</td>\n",
       "      <td>...</td>\n",
       "      <td>6.000</td>\n",
       "      <td>8.160</td>\n",
       "      <td>65.000</td>\n",
       "      <td>0.100</td>\n",
       "      <td>584.259</td>\n",
       "      <td>33736494.000</td>\n",
       "      <td>17.200</td>\n",
       "      <td>17.300</td>\n",
       "      <td>0.479</td>\n",
       "      <td>10.100</td>\n",
       "    </tr>\n",
       "    <tr>\n",
       "      <th>1</th>\n",
       "      <td>Afghanistan</td>\n",
       "      <td>2014</td>\n",
       "      <td>Developing</td>\n",
       "      <td>59.900</td>\n",
       "      <td>271.000</td>\n",
       "      <td>64</td>\n",
       "      <td>0.010</td>\n",
       "      <td>73.524</td>\n",
       "      <td>62.000</td>\n",
       "      <td>492</td>\n",
       "      <td>...</td>\n",
       "      <td>58.000</td>\n",
       "      <td>8.180</td>\n",
       "      <td>62.000</td>\n",
       "      <td>0.100</td>\n",
       "      <td>612.697</td>\n",
       "      <td>327582.000</td>\n",
       "      <td>17.500</td>\n",
       "      <td>17.500</td>\n",
       "      <td>0.476</td>\n",
       "      <td>10.000</td>\n",
       "    </tr>\n",
       "    <tr>\n",
       "      <th>2</th>\n",
       "      <td>Afghanistan</td>\n",
       "      <td>2013</td>\n",
       "      <td>Developing</td>\n",
       "      <td>59.900</td>\n",
       "      <td>268.000</td>\n",
       "      <td>66</td>\n",
       "      <td>0.010</td>\n",
       "      <td>73.219</td>\n",
       "      <td>64.000</td>\n",
       "      <td>430</td>\n",
       "      <td>...</td>\n",
       "      <td>62.000</td>\n",
       "      <td>8.130</td>\n",
       "      <td>64.000</td>\n",
       "      <td>0.100</td>\n",
       "      <td>631.745</td>\n",
       "      <td>31731688.000</td>\n",
       "      <td>17.700</td>\n",
       "      <td>17.700</td>\n",
       "      <td>0.470</td>\n",
       "      <td>9.900</td>\n",
       "    </tr>\n",
       "    <tr>\n",
       "      <th>3</th>\n",
       "      <td>Afghanistan</td>\n",
       "      <td>2012</td>\n",
       "      <td>Developing</td>\n",
       "      <td>59.500</td>\n",
       "      <td>272.000</td>\n",
       "      <td>69</td>\n",
       "      <td>0.010</td>\n",
       "      <td>78.184</td>\n",
       "      <td>67.000</td>\n",
       "      <td>2787</td>\n",
       "      <td>...</td>\n",
       "      <td>67.000</td>\n",
       "      <td>8.520</td>\n",
       "      <td>67.000</td>\n",
       "      <td>0.100</td>\n",
       "      <td>669.959</td>\n",
       "      <td>3696958.000</td>\n",
       "      <td>17.900</td>\n",
       "      <td>18.000</td>\n",
       "      <td>0.463</td>\n",
       "      <td>9.800</td>\n",
       "    </tr>\n",
       "    <tr>\n",
       "      <th>4</th>\n",
       "      <td>Afghanistan</td>\n",
       "      <td>2011</td>\n",
       "      <td>Developing</td>\n",
       "      <td>59.200</td>\n",
       "      <td>275.000</td>\n",
       "      <td>71</td>\n",
       "      <td>0.010</td>\n",
       "      <td>7.097</td>\n",
       "      <td>68.000</td>\n",
       "      <td>3013</td>\n",
       "      <td>...</td>\n",
       "      <td>68.000</td>\n",
       "      <td>7.870</td>\n",
       "      <td>68.000</td>\n",
       "      <td>0.100</td>\n",
       "      <td>63.537</td>\n",
       "      <td>2978599.000</td>\n",
       "      <td>18.200</td>\n",
       "      <td>18.200</td>\n",
       "      <td>0.454</td>\n",
       "      <td>9.500</td>\n",
       "    </tr>\n",
       "  </tbody>\n",
       "</table>\n",
       "<p>5 rows × 22 columns</p>\n",
       "</div>"
      ],
      "text/plain": [
       "       Country  Year      Status  Life expectancy   Adult Mortality  \\\n",
       "0  Afghanistan  2015  Developing            65.000          263.000   \n",
       "1  Afghanistan  2014  Developing            59.900          271.000   \n",
       "2  Afghanistan  2013  Developing            59.900          268.000   \n",
       "3  Afghanistan  2012  Developing            59.500          272.000   \n",
       "4  Afghanistan  2011  Developing            59.200          275.000   \n",
       "\n",
       "   infant deaths  Alcohol  percentage expenditure  Hepatitis B  Measles   ...  \\\n",
       "0             62    0.010                  71.280       65.000      1154  ...   \n",
       "1             64    0.010                  73.524       62.000       492  ...   \n",
       "2             66    0.010                  73.219       64.000       430  ...   \n",
       "3             69    0.010                  78.184       67.000      2787  ...   \n",
       "4             71    0.010                   7.097       68.000      3013  ...   \n",
       "\n",
       "   Polio  Total expenditure  Diphtheria    HIV/AIDS     GDP   Population  \\\n",
       "0  6.000              8.160       65.000      0.100 584.259 33736494.000   \n",
       "1 58.000              8.180       62.000      0.100 612.697   327582.000   \n",
       "2 62.000              8.130       64.000      0.100 631.745 31731688.000   \n",
       "3 67.000              8.520       67.000      0.100 669.959  3696958.000   \n",
       "4 68.000              7.870       68.000      0.100  63.537  2978599.000   \n",
       "\n",
       "    thinness  1-19 years   thinness 5-9 years  \\\n",
       "0                 17.200               17.300   \n",
       "1                 17.500               17.500   \n",
       "2                 17.700               17.700   \n",
       "3                 17.900               18.000   \n",
       "4                 18.200               18.200   \n",
       "\n",
       "   Income composition of resources  Schooling  \n",
       "0                            0.479     10.100  \n",
       "1                            0.476     10.000  \n",
       "2                            0.470      9.900  \n",
       "3                            0.463      9.800  \n",
       "4                            0.454      9.500  \n",
       "\n",
       "[5 rows x 22 columns]"
      ]
     },
     "execution_count": 4,
     "metadata": {},
     "output_type": "execute_result"
    }
   ],
   "source": [
    "data.head()"
   ]
  },
  {
   "cell_type": "code",
   "execution_count": 5,
   "metadata": {
    "ExecuteTime": {
     "end_time": "2020-05-22T23:05:09.302607Z",
     "start_time": "2020-05-22T23:05:09.137656Z"
    },
    "scrolled": true
   },
   "outputs": [
    {
     "name": "stdout",
     "output_type": "stream",
     "text": [
      "<class 'pandas.core.frame.DataFrame'>\n",
      "RangeIndex: 2938 entries, 0 to 2937\n",
      "Data columns (total 22 columns):\n",
      " #   Column                           Non-Null Count  Dtype  \n",
      "---  ------                           --------------  -----  \n",
      " 0   Country                          2938 non-null   object \n",
      " 1   Year                             2938 non-null   int64  \n",
      " 2   Status                           2938 non-null   object \n",
      " 3   Life expectancy                  2928 non-null   float64\n",
      " 4   Adult Mortality                  2928 non-null   float64\n",
      " 5   infant deaths                    2938 non-null   int64  \n",
      " 6   Alcohol                          2744 non-null   float64\n",
      " 7   percentage expenditure           2938 non-null   float64\n",
      " 8   Hepatitis B                      2385 non-null   float64\n",
      " 9   Measles                          2938 non-null   int64  \n",
      " 10   BMI                             2904 non-null   float64\n",
      " 11  under-five deaths                2938 non-null   int64  \n",
      " 12  Polio                            2919 non-null   float64\n",
      " 13  Total expenditure                2712 non-null   float64\n",
      " 14  Diphtheria                       2919 non-null   float64\n",
      " 15   HIV/AIDS                        2938 non-null   float64\n",
      " 16  GDP                              2490 non-null   float64\n",
      " 17  Population                       2286 non-null   float64\n",
      " 18   thinness  1-19 years            2904 non-null   float64\n",
      " 19   thinness 5-9 years              2904 non-null   float64\n",
      " 20  Income composition of resources  2771 non-null   float64\n",
      " 21  Schooling                        2775 non-null   float64\n",
      "dtypes: float64(16), int64(4), object(2)\n",
      "memory usage: 505.1+ KB\n"
     ]
    }
   ],
   "source": [
    "data.info()"
   ]
  },
  {
   "cell_type": "code",
   "execution_count": 6,
   "metadata": {
    "ExecuteTime": {
     "end_time": "2020-05-22T23:05:09.475655Z",
     "start_time": "2020-05-22T23:05:09.307606Z"
    },
    "scrolled": true
   },
   "outputs": [],
   "source": [
    "data[['Country','Status']] = data[['Country','Status']].astype('category')"
   ]
  },
  {
   "cell_type": "code",
   "execution_count": 7,
   "metadata": {
    "ExecuteTime": {
     "end_time": "2020-05-22T23:05:09.578245Z",
     "start_time": "2020-05-22T23:05:09.477655Z"
    }
   },
   "outputs": [
    {
     "data": {
      "text/plain": [
       "193"
      ]
     },
     "execution_count": 7,
     "metadata": {},
     "output_type": "execute_result"
    }
   ],
   "source": [
    "data['Country'].nunique()"
   ]
  },
  {
   "cell_type": "markdown",
   "metadata": {},
   "source": [
    "<h4>Remove variable 'country'</h4><br>\n",
    "Since variable country have many unique value, we need to drop those variable."
   ]
  },
  {
   "cell_type": "code",
   "execution_count": 8,
   "metadata": {
    "ExecuteTime": {
     "end_time": "2020-05-22T23:05:09.895294Z",
     "start_time": "2020-05-22T23:05:09.584233Z"
    }
   },
   "outputs": [],
   "source": [
    "data.drop(['Country'], axis=1, inplace=True)"
   ]
  },
  {
   "cell_type": "markdown",
   "metadata": {},
   "source": [
    "<h4>Renaming Columns</h4>"
   ]
  },
  {
   "cell_type": "code",
   "execution_count": 9,
   "metadata": {
    "ExecuteTime": {
     "end_time": "2020-05-22T23:05:10.044257Z",
     "start_time": "2020-05-22T23:05:09.906300Z"
    }
   },
   "outputs": [],
   "source": [
    "#rename column\n",
    "orig_cols = list(data.columns)\n",
    "new_cols = []\n",
    "for col in orig_cols:\n",
    "    new_cols.append(col.strip().replace('  ', ' ').replace(' ', '_').lower())\n",
    "data.columns = new_cols"
   ]
  },
  {
   "cell_type": "code",
   "execution_count": 10,
   "metadata": {
    "ExecuteTime": {
     "end_time": "2020-05-22T23:05:10.159272Z",
     "start_time": "2020-05-22T23:05:10.048258Z"
    }
   },
   "outputs": [],
   "source": [
    "data.rename(columns={'thinness_1-19_years':'thin_1','thinness_5-9_years':'thin_5','hiv/aids':'hivaids','under-five_deaths':\\\n",
    "                    'under_five_deaths'}, inplace=True)"
   ]
  },
  {
   "cell_type": "markdown",
   "metadata": {},
   "source": [
    "<h4>Variable Description</h4>"
   ]
  },
  {
   "cell_type": "markdown",
   "metadata": {},
   "source": [
    "* `country` : the country in which the indicators are from \n",
    "* `year` : the calendar year the indicators are from (ranging from 2000 to 2015)\n",
    "* `status` : whether a country is considered to be 'Developing' or 'Developed' by WHO standards\n",
    "* `life_expectancy` : the life expectancy of people in years for a particular country and year\n",
    "* `adult_mortality` : the adult mortality rate per 1000 population (i.e. number of people dying between 15 and 60 years per 1000 population); if the rate is 263 then that means 263 people will die out of 1000 between the ages of 15 and 60; another way to think of this is that the chance an individual will die between 15 and 60 is 26.3%\n",
    "* `infant_deaths` :number of infant deaths per 1000 population; similar to above, but for infants\n",
    "* `alcohol` : a country's alcohol consumption rate measured as liters of pure alcohol consumption per capita\n",
    "* `percentage_expenditure` : expenditure on health as a percentage of Gross Domestic Product (gdp)\n",
    "* `hepatitis_b` : number of 1 year olds with Hepatitis B immunization over all 1 year olds in population\n",
    "* `measles` : number of reported Measles cases per 1000 population\n",
    "* `bmi` : average Body Mass Index (BMI) of a country's total population\n",
    "* `under-five_deaths` : number of people under the age of five deaths per 1000 population\n",
    "* `polio` : number of 1 year olds with Polio immunization over the number of all 1 year olds in population\n",
    "* `total_expenditure` : government expenditure on health as a percentage of total government expenditure\n",
    "* `diphtheria` : Diphtheria tetanus toxoid and pertussis (DTP3) immunization rate of 1 year olds\n",
    "* `hiv/aids`: deaths per 1000 live births caused by HIV/AIDS for people under 5; number of people under 5 who die due to HIV/AIDS per 1000 births\n",
    "* `gdp` : Gross Domestic Product per capita\n",
    "* `population` : population of a country\n",
    "* `thinness_1-19_years`: rate of thinness among people aged 10-19 \n",
    "* `thinness_5-9_years` : rate of thinness among people aged 5-9\n",
    "* `income_composition_of_resources` : Human Development Index in terms of income composition of resources (index ranging from 0 to 1)\n",
    "* `schooling` : average number of years of schooling of a population"
   ]
  },
  {
   "cell_type": "markdown",
   "metadata": {},
   "source": [
    "<h4>Determined predictor and target variable</h4>"
   ]
  },
  {
   "cell_type": "markdown",
   "metadata": {},
   "source": [
    "Since we want to predict Life Expectancy of population, so target variable ('y') from this data is life_expectancy, and the rest used as predictor variable."
   ]
  },
  {
   "cell_type": "markdown",
   "metadata": {},
   "source": [
    "<h4>Check and handle missing values</h4>"
   ]
  },
  {
   "cell_type": "code",
   "execution_count": 11,
   "metadata": {
    "ExecuteTime": {
     "end_time": "2020-05-22T23:05:10.682393Z",
     "start_time": "2020-05-22T23:05:10.161222Z"
    }
   },
   "outputs": [
    {
     "data": {
      "text/plain": [
       "year                               0.000\n",
       "status                             0.000\n",
       "life_expectancy                    0.340\n",
       "adult_mortality                    0.340\n",
       "infant_deaths                      0.000\n",
       "alcohol                            6.603\n",
       "percentage_expenditure             0.000\n",
       "hepatitis_b                       18.822\n",
       "measles                            0.000\n",
       "bmi                                1.157\n",
       "under_five_deaths                  0.000\n",
       "polio                              0.647\n",
       "total_expenditure                  7.692\n",
       "diphtheria                         0.647\n",
       "hivaids                            0.000\n",
       "gdp                               15.248\n",
       "population                        22.192\n",
       "thin_1                             1.157\n",
       "thin_5                             1.157\n",
       "income_composition_of_resources    5.684\n",
       "schooling                          5.548\n",
       "dtype: float64"
      ]
     },
     "execution_count": 11,
     "metadata": {},
     "output_type": "execute_result"
    }
   ],
   "source": [
    "# Identify percentage of null values in each column.\n",
    "data.isna().sum()*100/data.isna().count()"
   ]
  },
  {
   "cell_type": "code",
   "execution_count": 12,
   "metadata": {
    "ExecuteTime": {
     "end_time": "2020-05-22T23:05:10.943872Z",
     "start_time": "2020-05-22T23:05:10.684380Z"
    }
   },
   "outputs": [],
   "source": [
    "year_list = data.year.unique()\n",
    "fill_list = ['life_expectancy','adult_mortality','alcohol','hepatitis_b','bmi','polio','total_expenditure',\\\n",
    "             'diphtheria','gdp','population','thin_1','thin_5','income_composition_of_resources',\\\n",
    "             'schooling']\n",
    "\n",
    "for year in year_list:\n",
    "    data.loc[data['year'] == year,fill_list] = data.loc[data['year'] == year,fill_list].interpolate()\n",
    "\n",
    "data.dropna(inplace=True)"
   ]
  },
  {
   "cell_type": "markdown",
   "metadata": {},
   "source": [
    "<h4>Check outliers</h4>"
   ]
  },
  {
   "cell_type": "code",
   "execution_count": 13,
   "metadata": {
    "ExecuteTime": {
     "end_time": "2020-05-22T23:05:11.031215Z",
     "start_time": "2020-05-22T23:05:10.945874Z"
    }
   },
   "outputs": [
    {
     "data": {
      "text/html": [
       "<div>\n",
       "<style scoped>\n",
       "    .dataframe tbody tr th:only-of-type {\n",
       "        vertical-align: middle;\n",
       "    }\n",
       "\n",
       "    .dataframe tbody tr th {\n",
       "        vertical-align: top;\n",
       "    }\n",
       "\n",
       "    .dataframe thead th {\n",
       "        text-align: right;\n",
       "    }\n",
       "</style>\n",
       "<table border=\"1\" class=\"dataframe\">\n",
       "  <thead>\n",
       "    <tr style=\"text-align: right;\">\n",
       "      <th></th>\n",
       "      <th>year</th>\n",
       "      <th>life_expectancy</th>\n",
       "      <th>adult_mortality</th>\n",
       "      <th>infant_deaths</th>\n",
       "      <th>alcohol</th>\n",
       "      <th>percentage_expenditure</th>\n",
       "      <th>hepatitis_b</th>\n",
       "      <th>measles</th>\n",
       "      <th>bmi</th>\n",
       "      <th>under_five_deaths</th>\n",
       "      <th>polio</th>\n",
       "      <th>total_expenditure</th>\n",
       "      <th>diphtheria</th>\n",
       "      <th>hivaids</th>\n",
       "      <th>gdp</th>\n",
       "      <th>population</th>\n",
       "      <th>thin_1</th>\n",
       "      <th>thin_5</th>\n",
       "      <th>income_composition_of_resources</th>\n",
       "      <th>schooling</th>\n",
       "    </tr>\n",
       "  </thead>\n",
       "  <tbody>\n",
       "    <tr>\n",
       "      <th>count</th>\n",
       "      <td>2938.000</td>\n",
       "      <td>2938.000</td>\n",
       "      <td>2938.000</td>\n",
       "      <td>2938.000</td>\n",
       "      <td>2938.000</td>\n",
       "      <td>2938.000</td>\n",
       "      <td>2938.000</td>\n",
       "      <td>2938.000</td>\n",
       "      <td>2938.000</td>\n",
       "      <td>2938.000</td>\n",
       "      <td>2938.000</td>\n",
       "      <td>2938.000</td>\n",
       "      <td>2938.000</td>\n",
       "      <td>2938.000</td>\n",
       "      <td>2938.000</td>\n",
       "      <td>2938.000</td>\n",
       "      <td>2938.000</td>\n",
       "      <td>2938.000</td>\n",
       "      <td>2938.000</td>\n",
       "      <td>2938.000</td>\n",
       "    </tr>\n",
       "    <tr>\n",
       "      <th>mean</th>\n",
       "      <td>2007.519</td>\n",
       "      <td>69.225</td>\n",
       "      <td>164.851</td>\n",
       "      <td>30.304</td>\n",
       "      <td>4.734</td>\n",
       "      <td>738.251</td>\n",
       "      <td>79.569</td>\n",
       "      <td>2419.592</td>\n",
       "      <td>38.355</td>\n",
       "      <td>42.036</td>\n",
       "      <td>82.561</td>\n",
       "      <td>5.955</td>\n",
       "      <td>82.343</td>\n",
       "      <td>1.742</td>\n",
       "      <td>7920.787</td>\n",
       "      <td>11981853.032</td>\n",
       "      <td>4.863</td>\n",
       "      <td>4.898</td>\n",
       "      <td>0.635</td>\n",
       "      <td>12.079</td>\n",
       "    </tr>\n",
       "    <tr>\n",
       "      <th>std</th>\n",
       "      <td>4.614</td>\n",
       "      <td>9.508</td>\n",
       "      <td>124.129</td>\n",
       "      <td>117.927</td>\n",
       "      <td>3.983</td>\n",
       "      <td>1987.915</td>\n",
       "      <td>24.912</td>\n",
       "      <td>11467.272</td>\n",
       "      <td>19.968</td>\n",
       "      <td>160.446</td>\n",
       "      <td>23.375</td>\n",
       "      <td>2.408</td>\n",
       "      <td>23.665</td>\n",
       "      <td>5.078</td>\n",
       "      <td>14136.054</td>\n",
       "      <td>54777438.383</td>\n",
       "      <td>4.411</td>\n",
       "      <td>4.500</td>\n",
       "      <td>0.209</td>\n",
       "      <td>3.318</td>\n",
       "    </tr>\n",
       "    <tr>\n",
       "      <th>min</th>\n",
       "      <td>2000.000</td>\n",
       "      <td>36.300</td>\n",
       "      <td>1.000</td>\n",
       "      <td>0.000</td>\n",
       "      <td>0.010</td>\n",
       "      <td>0.000</td>\n",
       "      <td>1.000</td>\n",
       "      <td>0.000</td>\n",
       "      <td>1.000</td>\n",
       "      <td>0.000</td>\n",
       "      <td>3.000</td>\n",
       "      <td>0.370</td>\n",
       "      <td>2.000</td>\n",
       "      <td>0.100</td>\n",
       "      <td>1.681</td>\n",
       "      <td>34.000</td>\n",
       "      <td>0.100</td>\n",
       "      <td>0.100</td>\n",
       "      <td>0.000</td>\n",
       "      <td>0.000</td>\n",
       "    </tr>\n",
       "    <tr>\n",
       "      <th>25%</th>\n",
       "      <td>2004.000</td>\n",
       "      <td>63.200</td>\n",
       "      <td>74.000</td>\n",
       "      <td>0.000</td>\n",
       "      <td>1.093</td>\n",
       "      <td>4.685</td>\n",
       "      <td>74.000</td>\n",
       "      <td>0.000</td>\n",
       "      <td>19.400</td>\n",
       "      <td>0.000</td>\n",
       "      <td>78.000</td>\n",
       "      <td>4.370</td>\n",
       "      <td>78.000</td>\n",
       "      <td>0.100</td>\n",
       "      <td>544.024</td>\n",
       "      <td>289676.000</td>\n",
       "      <td>1.600</td>\n",
       "      <td>1.600</td>\n",
       "      <td>0.501</td>\n",
       "      <td>10.200</td>\n",
       "    </tr>\n",
       "    <tr>\n",
       "      <th>50%</th>\n",
       "      <td>2008.000</td>\n",
       "      <td>72.000</td>\n",
       "      <td>144.000</td>\n",
       "      <td>3.000</td>\n",
       "      <td>4.070</td>\n",
       "      <td>64.913</td>\n",
       "      <td>91.000</td>\n",
       "      <td>17.000</td>\n",
       "      <td>43.300</td>\n",
       "      <td>4.000</td>\n",
       "      <td>93.000</td>\n",
       "      <td>5.920</td>\n",
       "      <td>93.000</td>\n",
       "      <td>0.100</td>\n",
       "      <td>2244.485</td>\n",
       "      <td>1544221.000</td>\n",
       "      <td>3.400</td>\n",
       "      <td>3.400</td>\n",
       "      <td>0.684</td>\n",
       "      <td>12.400</td>\n",
       "    </tr>\n",
       "    <tr>\n",
       "      <th>75%</th>\n",
       "      <td>2012.000</td>\n",
       "      <td>75.600</td>\n",
       "      <td>227.000</td>\n",
       "      <td>22.000</td>\n",
       "      <td>7.810</td>\n",
       "      <td>441.534</td>\n",
       "      <td>96.000</td>\n",
       "      <td>360.250</td>\n",
       "      <td>56.100</td>\n",
       "      <td>28.000</td>\n",
       "      <td>97.000</td>\n",
       "      <td>7.390</td>\n",
       "      <td>97.000</td>\n",
       "      <td>0.800</td>\n",
       "      <td>6957.891</td>\n",
       "      <td>7280901.750</td>\n",
       "      <td>7.200</td>\n",
       "      <td>7.300</td>\n",
       "      <td>0.788</td>\n",
       "      <td>14.300</td>\n",
       "    </tr>\n",
       "    <tr>\n",
       "      <th>max</th>\n",
       "      <td>2015.000</td>\n",
       "      <td>89.000</td>\n",
       "      <td>723.000</td>\n",
       "      <td>1800.000</td>\n",
       "      <td>17.870</td>\n",
       "      <td>19479.912</td>\n",
       "      <td>99.000</td>\n",
       "      <td>212183.000</td>\n",
       "      <td>87.300</td>\n",
       "      <td>2500.000</td>\n",
       "      <td>99.000</td>\n",
       "      <td>17.600</td>\n",
       "      <td>99.000</td>\n",
       "      <td>50.600</td>\n",
       "      <td>119172.742</td>\n",
       "      <td>1293859294.000</td>\n",
       "      <td>27.700</td>\n",
       "      <td>28.600</td>\n",
       "      <td>0.948</td>\n",
       "      <td>20.700</td>\n",
       "    </tr>\n",
       "  </tbody>\n",
       "</table>\n",
       "</div>"
      ],
      "text/plain": [
       "          year  life_expectancy  adult_mortality  infant_deaths  alcohol  \\\n",
       "count 2938.000         2938.000         2938.000       2938.000 2938.000   \n",
       "mean  2007.519           69.225          164.851         30.304    4.734   \n",
       "std      4.614            9.508          124.129        117.927    3.983   \n",
       "min   2000.000           36.300            1.000          0.000    0.010   \n",
       "25%   2004.000           63.200           74.000          0.000    1.093   \n",
       "50%   2008.000           72.000          144.000          3.000    4.070   \n",
       "75%   2012.000           75.600          227.000         22.000    7.810   \n",
       "max   2015.000           89.000          723.000       1800.000   17.870   \n",
       "\n",
       "       percentage_expenditure  hepatitis_b    measles      bmi  \\\n",
       "count                2938.000     2938.000   2938.000 2938.000   \n",
       "mean                  738.251       79.569   2419.592   38.355   \n",
       "std                  1987.915       24.912  11467.272   19.968   \n",
       "min                     0.000        1.000      0.000    1.000   \n",
       "25%                     4.685       74.000      0.000   19.400   \n",
       "50%                    64.913       91.000     17.000   43.300   \n",
       "75%                   441.534       96.000    360.250   56.100   \n",
       "max                 19479.912       99.000 212183.000   87.300   \n",
       "\n",
       "       under_five_deaths    polio  total_expenditure  diphtheria  hivaids  \\\n",
       "count           2938.000 2938.000           2938.000    2938.000 2938.000   \n",
       "mean              42.036   82.561              5.955      82.343    1.742   \n",
       "std              160.446   23.375              2.408      23.665    5.078   \n",
       "min                0.000    3.000              0.370       2.000    0.100   \n",
       "25%                0.000   78.000              4.370      78.000    0.100   \n",
       "50%                4.000   93.000              5.920      93.000    0.100   \n",
       "75%               28.000   97.000              7.390      97.000    0.800   \n",
       "max             2500.000   99.000             17.600      99.000   50.600   \n",
       "\n",
       "             gdp     population   thin_1   thin_5  \\\n",
       "count   2938.000       2938.000 2938.000 2938.000   \n",
       "mean    7920.787   11981853.032    4.863    4.898   \n",
       "std    14136.054   54777438.383    4.411    4.500   \n",
       "min        1.681         34.000    0.100    0.100   \n",
       "25%      544.024     289676.000    1.600    1.600   \n",
       "50%     2244.485    1544221.000    3.400    3.400   \n",
       "75%     6957.891    7280901.750    7.200    7.300   \n",
       "max   119172.742 1293859294.000   27.700   28.600   \n",
       "\n",
       "       income_composition_of_resources  schooling  \n",
       "count                         2938.000   2938.000  \n",
       "mean                             0.635     12.079  \n",
       "std                              0.209      3.318  \n",
       "min                              0.000      0.000  \n",
       "25%                              0.501     10.200  \n",
       "50%                              0.684     12.400  \n",
       "75%                              0.788     14.300  \n",
       "max                              0.948     20.700  "
      ]
     },
     "execution_count": 13,
     "metadata": {},
     "output_type": "execute_result"
    }
   ],
   "source": [
    "data.describe()"
   ]
  },
  {
   "cell_type": "code",
   "execution_count": 14,
   "metadata": {
    "ExecuteTime": {
     "end_time": "2020-05-22T23:05:14.578086Z",
     "start_time": "2020-05-22T23:05:11.034216Z"
    }
   },
   "outputs": [
    {
     "data": {
      "image/png": "[encoded data removed]",
      "text/plain": [
       "<Figure size 1080x2880 with 18 Axes>"
      ]
     },
     "metadata": {
      "needs_background": "light"
     },
     "output_type": "display_data"
    }
   ],
   "source": [
    "cont_vars = list(data.columns)[3:]\n",
    "def outliers_visual(data):\n",
    "    plt.figure(figsize=(15, 40))\n",
    "    i = 0\n",
    "    for col in cont_vars:\n",
    "        i += 1\n",
    "        plt.subplot(9, 4, i)\n",
    "        plt.boxplot(data[col])\n",
    "        plt.title('{} boxplot'.format(col))\n",
    "    plt.show()\n",
    "outliers_visual(data)"
   ]
  },
  {
   "cell_type": "markdown",
   "metadata": {},
   "source": [
    "<h4>Remove outliers</h4>"
   ]
  },
  {
   "cell_type": "code",
   "execution_count": 15,
   "metadata": {
    "ExecuteTime": {
     "end_time": "2020-05-22T23:05:14.586093Z",
     "start_time": "2020-05-22T23:05:14.580088Z"
    }
   },
   "outputs": [],
   "source": [
    "data_without_outliers = data.copy()"
   ]
  },
  {
   "cell_type": "code",
   "execution_count": 16,
   "metadata": {
    "ExecuteTime": {
     "end_time": "2020-05-22T23:05:14.999293Z",
     "start_time": "2020-05-22T23:05:14.589096Z"
    },
    "scrolled": false
   },
   "outputs": [
    {
     "data": {
      "image/png": "[encoded data removed]",
      "text/plain": [
       "<Figure size 1080x432 with 2 Axes>"
      ]
     },
     "metadata": {
      "needs_background": "light"
     },
     "output_type": "display_data"
    }
   ],
   "source": [
    "plt.figure(figsize=(15,6))\n",
    "\n",
    "plt.subplot(1,2,1)\n",
    "original_life_expectancy = data_without_outliers['life_expectancy']\n",
    "plt.boxplot(original_life_expectancy)\n",
    "plt.title(\"original_Life_Expectancy\")\n",
    "\n",
    "plt.subplot(1,2,2)\n",
    "winsorized_life_expectancy = winsorize(data_without_outliers['life_expectancy'],(0.01,0))\n",
    "plt.boxplot(winsorized_life_expectancy)\n",
    "plt.title(\"winsorized_life_expectancy\")\n",
    "\n",
    "plt.show()"
   ]
  },
  {
   "cell_type": "code",
   "execution_count": 17,
   "metadata": {
    "ExecuteTime": {
     "end_time": "2020-05-22T23:05:15.336379Z",
     "start_time": "2020-05-22T23:05:15.002275Z"
    }
   },
   "outputs": [
    {
     "data": {
      "image/png": "[encoded data removed]",
      "text/plain": [
       "<Figure size 1296x432 with 2 Axes>"
      ]
     },
     "metadata": {
      "needs_background": "light"
     },
     "output_type": "display_data"
    }
   ],
   "source": [
    "plt.figure(figsize=(18,6))\n",
    "\n",
    "plt.subplot(1,2,1)\n",
    "original_adult_mortality = data_without_outliers['adult_mortality']\n",
    "plt.boxplot(original_adult_mortality)\n",
    "plt.title(\"original_adult_mortality\")\n",
    "\n",
    "plt.subplot(1,2,2)\n",
    "winsorized_adult_mortality = winsorize(data_without_outliers['adult_mortality'],(0,0.03))\n",
    "plt.boxplot(winsorized_adult_mortality)\n",
    "plt.title(\"winsorized_adult_mortality\")\n",
    "\n",
    "plt.show()"
   ]
  },
  {
   "cell_type": "code",
   "execution_count": 18,
   "metadata": {
    "ExecuteTime": {
     "end_time": "2020-05-22T23:05:15.672620Z",
     "start_time": "2020-05-22T23:05:15.339382Z"
    }
   },
   "outputs": [
    {
     "data": {
      "image/png": "[encoded data removed]",
      "text/plain": [
       "<Figure size 1296x432 with 2 Axes>"
      ]
     },
     "metadata": {
      "needs_background": "light"
     },
     "output_type": "display_data"
    }
   ],
   "source": [
    "plt.figure(figsize=(18,6))\n",
    "\n",
    "plt.subplot(1,2,1)\n",
    "original_infant_deaths = data_without_outliers['infant_deaths']\n",
    "plt.boxplot(original_infant_deaths)\n",
    "plt.title(\"original_infant_deaths\")\n",
    "\n",
    "plt.subplot(1,2,2)\n",
    "winsorized_infant_deaths = winsorize(data_without_outliers['infant_deaths'],(0,0.15))\n",
    "plt.boxplot(winsorized_infant_deaths)\n",
    "plt.title(\"winsorized_infant_deaths\")\n",
    "\n",
    "plt.show()"
   ]
  },
  {
   "cell_type": "code",
   "execution_count": 19,
   "metadata": {
    "ExecuteTime": {
     "end_time": "2020-05-22T23:05:16.029871Z",
     "start_time": "2020-05-22T23:05:15.675621Z"
    }
   },
   "outputs": [
    {
     "data": {
      "image/png": "[encoded data removed]",
      "text/plain": [
       "<Figure size 1296x432 with 2 Axes>"
      ]
     },
     "metadata": {
      "needs_background": "light"
     },
     "output_type": "display_data"
    }
   ],
   "source": [
    "plt.figure(figsize=(18,6))\n",
    "\n",
    "plt.subplot(1,2,1)\n",
    "original_alcohol = data_without_outliers['alcohol']\n",
    "plt.boxplot(original_alcohol)\n",
    "plt.title(\"original_alcohol\")\n",
    "\n",
    "plt.subplot(1,2,2)\n",
    "winsorized_alcohol = winsorize(data_without_outliers['alcohol'],(0,0.01))\n",
    "plt.boxplot(winsorized_alcohol)\n",
    "plt.title(\"winsorized_alcohol\")\n",
    "\n",
    "plt.show()"
   ]
  },
  {
   "cell_type": "code",
   "execution_count": 20,
   "metadata": {
    "ExecuteTime": {
     "end_time": "2020-05-22T23:05:16.378118Z",
     "start_time": "2020-05-22T23:05:16.031873Z"
    }
   },
   "outputs": [
    {
     "data": {
      "image/png": "[encoded data removed]",
      "text/plain": [
       "<Figure size 1296x432 with 2 Axes>"
      ]
     },
     "metadata": {
      "needs_background": "light"
     },
     "output_type": "display_data"
    }
   ],
   "source": [
    "plt.figure(figsize=(18,6))\n",
    "\n",
    "plt.subplot(1,2,1)\n",
    "original_percentage_expenditure = data_without_outliers['percentage_expenditure']\n",
    "plt.boxplot(original_percentage_expenditure)\n",
    "plt.title(\"original_percentage_expenditure\")\n",
    "\n",
    "plt.subplot(1,2,2)\n",
    "winsorized_percentage_expenditure = winsorize(data_without_outliers['percentage_expenditure'],(0,0.15))\n",
    "plt.boxplot(winsorized_percentage_expenditure)\n",
    "plt.title(\"winsorized_percentage_expenditure\")\n",
    "\n",
    "plt.show()"
   ]
  },
  {
   "cell_type": "code",
   "execution_count": 21,
   "metadata": {
    "ExecuteTime": {
     "end_time": "2020-05-22T23:05:16.705351Z",
     "start_time": "2020-05-22T23:05:16.381121Z"
    }
   },
   "outputs": [
    {
     "data": {
      "image/png": "[encoded data removed]",
      "text/plain": [
       "<Figure size 1296x432 with 2 Axes>"
      ]
     },
     "metadata": {
      "needs_background": "light"
     },
     "output_type": "display_data"
    }
   ],
   "source": [
    "plt.figure(figsize=(18,6))\n",
    "\n",
    "plt.subplot(1,2,1)\n",
    "original_hepatitis_b = data_without_outliers['hepatitis_b']\n",
    "plt.boxplot(original_hepatitis_b)\n",
    "plt.title(\"original_hepatitis_b\")\n",
    "\n",
    "plt.subplot(1,2,2)\n",
    "winsorized_hepatitis_b = winsorize(data_without_outliers['hepatitis_b'],(0.11,0))\n",
    "plt.boxplot(winsorized_hepatitis_b)\n",
    "plt.title(\"winsorized_hepatitis_b\")\n",
    "\n",
    "plt.show()"
   ]
  },
  {
   "cell_type": "code",
   "execution_count": 22,
   "metadata": {
    "ExecuteTime": {
     "end_time": "2020-05-22T23:05:17.151670Z",
     "start_time": "2020-05-22T23:05:16.708353Z"
    }
   },
   "outputs": [
    {
     "data": {
      "image/png": "[encoded data removed]",
      "text/plain": [
       "<Figure size 1296x432 with 2 Axes>"
      ]
     },
     "metadata": {
      "needs_background": "light"
     },
     "output_type": "display_data"
    }
   ],
   "source": [
    "plt.figure(figsize=(18,6))\n",
    "\n",
    "plt.subplot(1,2,1)\n",
    "original_measles = data_without_outliers['measles']\n",
    "plt.boxplot(original_measles)\n",
    "plt.title(\"original_measles\")\n",
    "\n",
    "plt.subplot(1,2,2)\n",
    "winsorized_measles = winsorize(data_without_outliers['measles'],(0,0.19))\n",
    "plt.boxplot(winsorized_measles)\n",
    "plt.title(\"winsorized_measles\")\n",
    "\n",
    "plt.show()"
   ]
  },
  {
   "cell_type": "code",
   "execution_count": 23,
   "metadata": {
    "ExecuteTime": {
     "end_time": "2020-05-22T23:05:17.490909Z",
     "start_time": "2020-05-22T23:05:17.159674Z"
    }
   },
   "outputs": [
    {
     "data": {
      "image/png": "[encoded data removed]",
      "text/plain": [
       "<Figure size 1296x432 with 2 Axes>"
      ]
     },
     "metadata": {
      "needs_background": "light"
     },
     "output_type": "display_data"
    }
   ],
   "source": [
    "plt.figure(figsize=(18,6))\n",
    "\n",
    "plt.subplot(1,2,1)\n",
    "original_under_five_deaths = data_without_outliers['under_five_deaths']\n",
    "plt.boxplot(original_under_five_deaths)\n",
    "plt.title(\"original_under_five_deaths\")\n",
    "\n",
    "plt.subplot(1,2,2)\n",
    "winsorized_under_five_deaths = winsorize(data_without_outliers['under_five_deaths'],(0,0.15))\n",
    "plt.boxplot(winsorized_under_five_deaths)\n",
    "plt.title(\"winsorized_under_five_deaths\")\n",
    "\n",
    "plt.show()"
   ]
  },
  {
   "cell_type": "code",
   "execution_count": 24,
   "metadata": {
    "ExecuteTime": {
     "end_time": "2020-05-22T23:05:17.823147Z",
     "start_time": "2020-05-22T23:05:17.495914Z"
    }
   },
   "outputs": [
    {
     "data": {
      "image/png": "[encoded data removed]",
      "text/plain": [
       "<Figure size 1296x432 with 2 Axes>"
      ]
     },
     "metadata": {
      "needs_background": "light"
     },
     "output_type": "display_data"
    }
   ],
   "source": [
    "plt.figure(figsize=(18,6))\n",
    "\n",
    "plt.subplot(1,2,1)\n",
    "original_polio = data_without_outliers['polio']\n",
    "plt.boxplot(original_polio)\n",
    "plt.title(\"original_polio\")\n",
    "\n",
    "plt.subplot(1,2,2)\n",
    "winsorized_polio = winsorize(data_without_outliers['polio'],(0.1,0))\n",
    "plt.boxplot(winsorized_polio)\n",
    "plt.title(\"winsorized_polio\")\n",
    "\n",
    "plt.show()"
   ]
  },
  {
   "cell_type": "code",
   "execution_count": 25,
   "metadata": {
    "ExecuteTime": {
     "end_time": "2020-05-22T23:05:18.166388Z",
     "start_time": "2020-05-22T23:05:17.826148Z"
    }
   },
   "outputs": [
    {
     "data": {
      "image/png": "[encoded data removed]",
      "text/plain": [
       "<Figure size 1296x432 with 2 Axes>"
      ]
     },
     "metadata": {
      "needs_background": "light"
     },
     "output_type": "display_data"
    }
   ],
   "source": [
    "plt.figure(figsize=(18,6))\n",
    "\n",
    "plt.subplot(1,2,1)\n",
    "original_total_expenditure = data_without_outliers['total_expenditure']\n",
    "plt.boxplot(original_total_expenditure)\n",
    "plt.title(\"original_total_expenditure\")\n",
    "\n",
    "plt.subplot(1,2,2)\n",
    "winsorized_total_expenditure = winsorize(data_without_outliers['total_expenditure'],(0,0.015))\n",
    "plt.boxplot(winsorized_total_expenditure)\n",
    "plt.title(\"winsorized_total_expenditure\")\n",
    "\n",
    "plt.show()"
   ]
  },
  {
   "cell_type": "code",
   "execution_count": 26,
   "metadata": {
    "ExecuteTime": {
     "end_time": "2020-05-22T23:05:18.502626Z",
     "start_time": "2020-05-22T23:05:18.168390Z"
    }
   },
   "outputs": [
    {
     "data": {
      "image/png": "[encoded data removed]",
      "text/plain": [
       "<Figure size 1296x432 with 2 Axes>"
      ]
     },
     "metadata": {
      "needs_background": "light"
     },
     "output_type": "display_data"
    }
   ],
   "source": [
    "plt.figure(figsize=(18,6))\n",
    "\n",
    "plt.subplot(1,2,1)\n",
    "original_diphtheria = data_without_outliers['diphtheria']\n",
    "plt.boxplot(original_diphtheria)\n",
    "plt.title(\"original_diphtheria\")\n",
    "\n",
    "plt.subplot(1,2,2)\n",
    "winsorized_diphtheria = winsorize(data_without_outliers['diphtheria'],(0.10,0))\n",
    "plt.boxplot(winsorized_diphtheria)\n",
    "plt.title(\"winsorized_diphtheria\")\n",
    "\n",
    "plt.show()"
   ]
  },
  {
   "cell_type": "code",
   "execution_count": 27,
   "metadata": {
    "ExecuteTime": {
     "end_time": "2020-05-22T23:05:18.847892Z",
     "start_time": "2020-05-22T23:05:18.505630Z"
    }
   },
   "outputs": [
    {
     "data": {
      "image/png": "[encoded data removed]",
      "text/plain": [
       "<Figure size 1296x432 with 2 Axes>"
      ]
     },
     "metadata": {
      "needs_background": "light"
     },
     "output_type": "display_data"
    }
   ],
   "source": [
    "plt.figure(figsize=(18,6))\n",
    "\n",
    "plt.subplot(1,2,1)\n",
    "original_hivaids = data_without_outliers['hivaids']\n",
    "plt.boxplot(original_hivaids)\n",
    "plt.title(\"original_hivaids\")\n",
    "\n",
    "plt.subplot(1,2,2)\n",
    "winsorized_hivaids = winsorize(data_without_outliers['hivaids'],(0,0.2))\n",
    "plt.boxplot(winsorized_hivaids)\n",
    "plt.title(\"winsorized_hivaids\")\n",
    "\n",
    "plt.show()"
   ]
  },
  {
   "cell_type": "code",
   "execution_count": 28,
   "metadata": {
    "ExecuteTime": {
     "end_time": "2020-05-22T23:05:19.199140Z",
     "start_time": "2020-05-22T23:05:18.849875Z"
    }
   },
   "outputs": [
    {
     "data": {
      "image/png": "[encoded data removed]",
      "text/plain": [
       "<Figure size 1296x432 with 2 Axes>"
      ]
     },
     "metadata": {
      "needs_background": "light"
     },
     "output_type": "display_data"
    }
   ],
   "source": [
    "plt.figure(figsize=(18,6))\n",
    "\n",
    "plt.subplot(1,2,1)\n",
    "original_gdp = data_without_outliers['gdp']\n",
    "plt.boxplot(original_gdp)\n",
    "plt.title(\"original_gdp\")\n",
    "\n",
    "plt.subplot(1,2,2)\n",
    "winsorized_gdp = winsorize(data_without_outliers['gdp'],(0,0.15))\n",
    "plt.boxplot(winsorized_gdp)\n",
    "plt.title(\"winsorized_gdp\")\n",
    "\n",
    "plt.show()"
   ]
  },
  {
   "cell_type": "code",
   "execution_count": 29,
   "metadata": {
    "ExecuteTime": {
     "end_time": "2020-05-22T23:05:19.555373Z",
     "start_time": "2020-05-22T23:05:19.202124Z"
    }
   },
   "outputs": [
    {
     "data": {
      "image/png": "[encoded data removed]",
      "text/plain": [
       "<Figure size 1296x432 with 2 Axes>"
      ]
     },
     "metadata": {
      "needs_background": "light"
     },
     "output_type": "display_data"
    }
   ],
   "source": [
    "plt.figure(figsize=(18,6))\n",
    "\n",
    "plt.subplot(1,2,1)\n",
    "original_population = data_without_outliers['population']\n",
    "plt.boxplot(original_population)\n",
    "plt.title(\"original_population\")\n",
    "\n",
    "plt.subplot(1,2,2)\n",
    "winsorized_population = winsorize(data_without_outliers['population'],(0,0.14))\n",
    "plt.boxplot(winsorized_population)\n",
    "plt.title(\"winsorized_population\")\n",
    "\n",
    "plt.show()"
   ]
  },
  {
   "cell_type": "code",
   "execution_count": 30,
   "metadata": {
    "ExecuteTime": {
     "end_time": "2020-05-22T23:05:19.895615Z",
     "start_time": "2020-05-22T23:05:19.557376Z"
    }
   },
   "outputs": [
    {
     "data": {
      "image/png": "[encoded data removed]",
      "text/plain": [
       "<Figure size 1296x432 with 2 Axes>"
      ]
     },
     "metadata": {
      "needs_background": "light"
     },
     "output_type": "display_data"
    }
   ],
   "source": [
    "plt.figure(figsize=(18,6))\n",
    "\n",
    "plt.subplot(1,2,1)\n",
    "original_thin_1 = data_without_outliers['thin_1']\n",
    "plt.boxplot(original_thin_1)\n",
    "plt.title(\"original_thin_1\")\n",
    "\n",
    "plt.subplot(1,2,2)\n",
    "winsorized_thin_1 = winsorize(data_without_outliers['thin_1'],(0,0.04))\n",
    "plt.boxplot(winsorized_thin_1)\n",
    "plt.title(\"winsorized_thin_1\")\n",
    "\n",
    "plt.show()"
   ]
  },
  {
   "cell_type": "code",
   "execution_count": 31,
   "metadata": {
    "ExecuteTime": {
     "end_time": "2020-05-22T23:05:20.233936Z",
     "start_time": "2020-05-22T23:05:19.898617Z"
    }
   },
   "outputs": [
    {
     "data": {
      "image/png": "[encoded data removed]",
      "text/plain": [
       "<Figure size 1296x432 with 2 Axes>"
      ]
     },
     "metadata": {
      "needs_background": "light"
     },
     "output_type": "display_data"
    }
   ],
   "source": [
    "plt.figure(figsize=(18,6))\n",
    "\n",
    "plt.subplot(1,2,1)\n",
    "original_thin_5 = data_without_outliers['thin_5']\n",
    "plt.boxplot(original_thin_5)\n",
    "plt.title(\"original_thin_5\")\n",
    "\n",
    "plt.subplot(1,2,2)\n",
    "winsorized_thin_5 = winsorize(data_without_outliers['thin_5'],(0,0.04))\n",
    "plt.boxplot(winsorized_thin_5)\n",
    "plt.title(\"winsorized_thin_5\")\n",
    "\n",
    "plt.show()"
   ]
  },
  {
   "cell_type": "code",
   "execution_count": 32,
   "metadata": {
    "ExecuteTime": {
     "end_time": "2020-05-22T23:05:20.577198Z",
     "start_time": "2020-05-22T23:05:20.235937Z"
    }
   },
   "outputs": [
    {
     "data": {
      "image/png": "[encoded data removed]",
      "text/plain": [
       "<Figure size 1296x432 with 2 Axes>"
      ]
     },
     "metadata": {
      "needs_background": "light"
     },
     "output_type": "display_data"
    }
   ],
   "source": [
    "plt.figure(figsize=(18,6))\n",
    "\n",
    "plt.subplot(1,2,1)\n",
    "original_income_composition_of_resources = data_without_outliers['income_composition_of_resources']\n",
    "plt.boxplot(original_income_composition_of_resources)\n",
    "plt.title(\"original_income_composition_of_resources\")\n",
    "\n",
    "plt.subplot(1,2,2)\n",
    "winsorized_income_composition_of_resources = winsorize(data_without_outliers['income_composition_of_resources'],(0.05,0))\n",
    "plt.boxplot(winsorized_income_composition_of_resources)\n",
    "plt.title(\"winsorized_income_composition_of_resources\")\n",
    "\n",
    "plt.show()"
   ]
  },
  {
   "cell_type": "code",
   "execution_count": 33,
   "metadata": {
    "ExecuteTime": {
     "end_time": "2020-05-22T23:05:21.021752Z",
     "start_time": "2020-05-22T23:05:20.580182Z"
    }
   },
   "outputs": [
    {
     "data": {
      "image/png": "[encoded data removed]",
      "text/plain": [
       "<Figure size 1296x432 with 2 Axes>"
      ]
     },
     "metadata": {
      "needs_background": "light"
     },
     "output_type": "display_data"
    }
   ],
   "source": [
    "plt.figure(figsize=(18,6))\n",
    "\n",
    "plt.subplot(1,2,1)\n",
    "original_schooling = data_without_outliers['schooling']\n",
    "plt.boxplot(original_schooling)\n",
    "plt.title(\"original_schooling\")\n",
    "\n",
    "plt.subplot(1,2,2)\n",
    "winsorized_schooling = winsorize(data_without_outliers['schooling'],(0.02,0.01))\n",
    "plt.boxplot(winsorized_schooling)\n",
    "plt.title(\"winsorized_schooling\")\n",
    "\n",
    "plt.show()"
   ]
  },
  {
   "cell_type": "code",
   "execution_count": 34,
   "metadata": {
    "ExecuteTime": {
     "end_time": "2020-05-22T23:05:21.038765Z",
     "start_time": "2020-05-22T23:05:21.024754Z"
    }
   },
   "outputs": [],
   "source": [
    "data_without_outliers['life_expectancy'] = winsorized_life_expectancy\n",
    "data_without_outliers['adult_mortality'] = winsorized_adult_mortality\n",
    "data_without_outliers['infant_deaths'] = winsorized_infant_deaths\n",
    "data_without_outliers['alcohol'] = winsorized_alcohol\n",
    "data_without_outliers['percentage_expenditure'] = winsorized_percentage_expenditure\n",
    "data_without_outliers['hepatitis_b'] = winsorized_hepatitis_b\n",
    "data_without_outliers['measles'] = winsorized_measles\n",
    "data_without_outliers['under_five_deaths'] = winsorized_under_five_deaths\n",
    "data_without_outliers['polio'] = winsorized_polio\n",
    "data_without_outliers['total_expenditure'] = winsorized_total_expenditure\n",
    "data_without_outliers['diphtheria'] = winsorized_diphtheria\n",
    "data_without_outliers['hivaids'] = winsorized_hivaids\n",
    "data_without_outliers['gdp'] = winsorized_gdp\n",
    "data_without_outliers['population'] = winsorized_population\n",
    "data_without_outliers['thin_1'] = winsorized_thin_1\n",
    "data_without_outliers['thin_5'] = winsorized_thin_5\n",
    "data_without_outliers['income_composition_of_resources'] = winsorized_income_composition_of_resources\n",
    "data_without_outliers['schooling'] = winsorized_schooling"
   ]
  },
  {
   "cell_type": "code",
   "execution_count": 35,
   "metadata": {
    "ExecuteTime": {
     "end_time": "2020-05-22T23:05:21.160016Z",
     "start_time": "2020-05-22T23:05:21.040765Z"
    },
    "scrolled": true
   },
   "outputs": [
    {
     "data": {
      "text/html": [
       "<div>\n",
       "<style scoped>\n",
       "    .dataframe tbody tr th:only-of-type {\n",
       "        vertical-align: middle;\n",
       "    }\n",
       "\n",
       "    .dataframe tbody tr th {\n",
       "        vertical-align: top;\n",
       "    }\n",
       "\n",
       "    .dataframe thead th {\n",
       "        text-align: right;\n",
       "    }\n",
       "</style>\n",
       "<table border=\"1\" class=\"dataframe\">\n",
       "  <thead>\n",
       "    <tr style=\"text-align: right;\">\n",
       "      <th></th>\n",
       "      <th>year</th>\n",
       "      <th>status</th>\n",
       "      <th>life_expectancy</th>\n",
       "      <th>adult_mortality</th>\n",
       "      <th>infant_deaths</th>\n",
       "      <th>alcohol</th>\n",
       "      <th>percentage_expenditure</th>\n",
       "      <th>hepatitis_b</th>\n",
       "      <th>measles</th>\n",
       "      <th>bmi</th>\n",
       "      <th>...</th>\n",
       "      <th>polio</th>\n",
       "      <th>total_expenditure</th>\n",
       "      <th>diphtheria</th>\n",
       "      <th>hivaids</th>\n",
       "      <th>gdp</th>\n",
       "      <th>population</th>\n",
       "      <th>thin_1</th>\n",
       "      <th>thin_5</th>\n",
       "      <th>income_composition_of_resources</th>\n",
       "      <th>schooling</th>\n",
       "    </tr>\n",
       "  </thead>\n",
       "  <tbody>\n",
       "    <tr>\n",
       "      <th>0</th>\n",
       "      <td>2015</td>\n",
       "      <td>Developing</td>\n",
       "      <td>65.000</td>\n",
       "      <td>263.000</td>\n",
       "      <td>42</td>\n",
       "      <td>0.010</td>\n",
       "      <td>71.280</td>\n",
       "      <td>65.000</td>\n",
       "      <td>831</td>\n",
       "      <td>19.100</td>\n",
       "      <td>...</td>\n",
       "      <td>52.000</td>\n",
       "      <td>8.160</td>\n",
       "      <td>65.000</td>\n",
       "      <td>0.100</td>\n",
       "      <td>584.259</td>\n",
       "      <td>16148929.000</td>\n",
       "      <td>14.600</td>\n",
       "      <td>15.000</td>\n",
       "      <td>0.479</td>\n",
       "      <td>10.100</td>\n",
       "    </tr>\n",
       "    <tr>\n",
       "      <th>1</th>\n",
       "      <td>2014</td>\n",
       "      <td>Developing</td>\n",
       "      <td>59.900</td>\n",
       "      <td>271.000</td>\n",
       "      <td>42</td>\n",
       "      <td>0.010</td>\n",
       "      <td>73.524</td>\n",
       "      <td>62.000</td>\n",
       "      <td>492</td>\n",
       "      <td>18.600</td>\n",
       "      <td>...</td>\n",
       "      <td>58.000</td>\n",
       "      <td>8.180</td>\n",
       "      <td>62.000</td>\n",
       "      <td>0.100</td>\n",
       "      <td>612.697</td>\n",
       "      <td>327582.000</td>\n",
       "      <td>14.600</td>\n",
       "      <td>15.000</td>\n",
       "      <td>0.476</td>\n",
       "      <td>10.000</td>\n",
       "    </tr>\n",
       "  </tbody>\n",
       "</table>\n",
       "<p>2 rows × 21 columns</p>\n",
       "</div>"
      ],
      "text/plain": [
       "   year      status  life_expectancy  adult_mortality  infant_deaths  alcohol  \\\n",
       "0  2015  Developing           65.000          263.000             42    0.010   \n",
       "1  2014  Developing           59.900          271.000             42    0.010   \n",
       "\n",
       "   percentage_expenditure  hepatitis_b  measles    bmi  ...  polio  \\\n",
       "0                  71.280       65.000      831 19.100  ... 52.000   \n",
       "1                  73.524       62.000      492 18.600  ... 58.000   \n",
       "\n",
       "   total_expenditure  diphtheria  hivaids     gdp   population  thin_1  \\\n",
       "0              8.160      65.000    0.100 584.259 16148929.000  14.600   \n",
       "1              8.180      62.000    0.100 612.697   327582.000  14.600   \n",
       "\n",
       "   thin_5  income_composition_of_resources  schooling  \n",
       "0  15.000                            0.479     10.100  \n",
       "1  15.000                            0.476     10.000  \n",
       "\n",
       "[2 rows x 21 columns]"
      ]
     },
     "execution_count": 35,
     "metadata": {},
     "output_type": "execute_result"
    }
   ],
   "source": [
    "data_without_outliers.head(2)"
   ]
  },
  {
   "cell_type": "code",
   "execution_count": 36,
   "metadata": {
    "ExecuteTime": {
     "end_time": "2020-05-22T23:05:23.744295Z",
     "start_time": "2020-05-22T23:05:21.163000Z"
    }
   },
   "outputs": [
    {
     "data": {
      "image/png": "[encoded data removed]",
      "text/plain": [
       "<Figure size 1080x2880 with 18 Axes>"
      ]
     },
     "metadata": {
      "needs_background": "light"
     },
     "output_type": "display_data"
    }
   ],
   "source": [
    "cont_vars = list(data.columns)[3:]\n",
    "def outliers_visual(data):\n",
    "    plt.figure(figsize=(15, 40))\n",
    "    i = 0\n",
    "    for col in cont_vars:\n",
    "        i += 1\n",
    "        plt.subplot(9, 4, i)\n",
    "        plt.boxplot(data[col])\n",
    "        plt.title('{} boxplot'.format(col))\n",
    "    plt.show()\n",
    "outliers_visual(data_without_outliers)"
   ]
  },
  {
   "cell_type": "markdown",
   "metadata": {},
   "source": [
    "<h2>Exploratory Data Analysis</h2>"
   ]
  },
  {
   "cell_type": "markdown",
   "metadata": {},
   "source": [
    "<h4>Check distribution target variable</h4>"
   ]
  },
  {
   "cell_type": "code",
   "execution_count": 37,
   "metadata": {
    "ExecuteTime": {
     "end_time": "2020-05-22T23:05:24.216181Z",
     "start_time": "2020-05-22T23:05:23.746277Z"
    }
   },
   "outputs": [
    {
     "data": {
      "text/plain": [
       "<matplotlib.axes._subplots.AxesSubplot at 0x30d41363c8>"
      ]
     },
     "execution_count": 37,
     "metadata": {},
     "output_type": "execute_result"
    },
    {
     "data": {
      "image/png": "[encoded data removed]",
      "text/plain": [
       "<Figure size 720x720 with 1 Axes>"
      ]
     },
     "metadata": {
      "needs_background": "light"
     },
     "output_type": "display_data"
    }
   ],
   "source": [
    "plt.figure(figsize=(10,10))\n",
    "plt.tight_layout()\n",
    "sns.distplot(data['life_expectancy'])"
   ]
  },
  {
   "cell_type": "markdown",
   "metadata": {},
   "source": [
    "From the visualization above, we get the information that average maximum from Life Expectancy (as tagret variable) is in between 70-80 years old."
   ]
  },
  {
   "cell_type": "markdown",
   "metadata": {},
   "source": [
    "<h3>Check Assumption : Linearity</h3>"
   ]
  },
  {
   "cell_type": "markdown",
   "metadata": {},
   "source": [
    "Befor we go through the modelling step, we need to identify linearity relationship between variable predictor (x) with variable target (y). Relationship between 'x' and 'y' can be determined using correlation values. High positif correlation values indicate that there are strong positive relationship between variables. And high negative correlation values indicate that there are strong negatif relationship between variables.<br>"
   ]
  },
  {
   "cell_type": "code",
   "execution_count": 38,
   "metadata": {
    "ExecuteTime": {
     "end_time": "2020-05-22T23:05:24.223189Z",
     "start_time": "2020-05-22T23:05:24.218183Z"
    }
   },
   "outputs": [],
   "source": [
    "from scipy.stats import pearsonr\n",
    "from scipy.stats import spearmanr"
   ]
  },
  {
   "cell_type": "code",
   "execution_count": 39,
   "metadata": {
    "ExecuteTime": {
     "end_time": "2020-05-22T23:05:24.327112Z",
     "start_time": "2020-05-22T23:05:24.226189Z"
    }
   },
   "outputs": [],
   "source": [
    "\n",
    "def linearity(data,target):\n",
    "    cor_list = []\n",
    "    for col in data.drop(target, axis = 1).columns:\n",
    "        if col in data.select_dtypes('category').columns:\n",
    "            cor_val = spearmanr(data[col], data[target])\n",
    "        else:\n",
    "            cor_val = pearsonr(data[col], data[target])\n",
    "        cor_dict = {\"Predictor\": col,\n",
    "                \"Correlation\": cor_val[0]\n",
    "               }\n",
    "        cor_list.append(cor_dict)\n",
    "        cor_values = pd.DataFrame(cor_list)\n",
    "    return cor_values\n",
    "\n",
    "    "
   ]
  },
  {
   "cell_type": "code",
   "execution_count": 40,
   "metadata": {
    "ExecuteTime": {
     "end_time": "2020-05-22T23:05:24.897346Z",
     "start_time": "2020-05-22T23:05:24.329118Z"
    }
   },
   "outputs": [
    {
     "data": {
      "text/html": [
       "<div>\n",
       "<style scoped>\n",
       "    .dataframe tbody tr th:only-of-type {\n",
       "        vertical-align: middle;\n",
       "    }\n",
       "\n",
       "    .dataframe tbody tr th {\n",
       "        vertical-align: top;\n",
       "    }\n",
       "\n",
       "    .dataframe thead th {\n",
       "        text-align: right;\n",
       "    }\n",
       "</style>\n",
       "<table border=\"1\" class=\"dataframe\">\n",
       "  <thead>\n",
       "    <tr style=\"text-align: right;\">\n",
       "      <th></th>\n",
       "      <th>Predictor</th>\n",
       "      <th>Correlation</th>\n",
       "    </tr>\n",
       "  </thead>\n",
       "  <tbody>\n",
       "    <tr>\n",
       "      <th>0</th>\n",
       "      <td>year</td>\n",
       "      <td>0.170</td>\n",
       "    </tr>\n",
       "    <tr>\n",
       "      <th>1</th>\n",
       "      <td>status</td>\n",
       "      <td>-0.545</td>\n",
       "    </tr>\n",
       "    <tr>\n",
       "      <th>2</th>\n",
       "      <td>adult_mortality</td>\n",
       "      <td>-0.696</td>\n",
       "    </tr>\n",
       "    <tr>\n",
       "      <th>3</th>\n",
       "      <td>infant_deaths</td>\n",
       "      <td>-0.197</td>\n",
       "    </tr>\n",
       "    <tr>\n",
       "      <th>4</th>\n",
       "      <td>alcohol</td>\n",
       "      <td>0.381</td>\n",
       "    </tr>\n",
       "    <tr>\n",
       "      <th>5</th>\n",
       "      <td>percentage_expenditure</td>\n",
       "      <td>0.382</td>\n",
       "    </tr>\n",
       "    <tr>\n",
       "      <th>6</th>\n",
       "      <td>hepatitis_b</td>\n",
       "      <td>0.215</td>\n",
       "    </tr>\n",
       "    <tr>\n",
       "      <th>7</th>\n",
       "      <td>measles</td>\n",
       "      <td>-0.158</td>\n",
       "    </tr>\n",
       "    <tr>\n",
       "      <th>8</th>\n",
       "      <td>bmi</td>\n",
       "      <td>0.555</td>\n",
       "    </tr>\n",
       "    <tr>\n",
       "      <th>9</th>\n",
       "      <td>under_five_deaths</td>\n",
       "      <td>-0.222</td>\n",
       "    </tr>\n",
       "    <tr>\n",
       "      <th>10</th>\n",
       "      <td>polio</td>\n",
       "      <td>0.463</td>\n",
       "    </tr>\n",
       "    <tr>\n",
       "      <th>11</th>\n",
       "      <td>total_expenditure</td>\n",
       "      <td>0.197</td>\n",
       "    </tr>\n",
       "    <tr>\n",
       "      <th>12</th>\n",
       "      <td>diphtheria</td>\n",
       "      <td>0.476</td>\n",
       "    </tr>\n",
       "    <tr>\n",
       "      <th>13</th>\n",
       "      <td>hivaids</td>\n",
       "      <td>-0.556</td>\n",
       "    </tr>\n",
       "    <tr>\n",
       "      <th>14</th>\n",
       "      <td>gdp</td>\n",
       "      <td>0.416</td>\n",
       "    </tr>\n",
       "    <tr>\n",
       "      <th>15</th>\n",
       "      <td>population</td>\n",
       "      <td>-0.015</td>\n",
       "    </tr>\n",
       "    <tr>\n",
       "      <th>16</th>\n",
       "      <td>thin_1</td>\n",
       "      <td>-0.475</td>\n",
       "    </tr>\n",
       "    <tr>\n",
       "      <th>17</th>\n",
       "      <td>thin_5</td>\n",
       "      <td>-0.471</td>\n",
       "    </tr>\n",
       "    <tr>\n",
       "      <th>18</th>\n",
       "      <td>income_composition_of_resources</td>\n",
       "      <td>0.695</td>\n",
       "    </tr>\n",
       "    <tr>\n",
       "      <th>19</th>\n",
       "      <td>schooling</td>\n",
       "      <td>0.714</td>\n",
       "    </tr>\n",
       "  </tbody>\n",
       "</table>\n",
       "</div>"
      ],
      "text/plain": [
       "                          Predictor  Correlation\n",
       "0                              year        0.170\n",
       "1                            status       -0.545\n",
       "2                   adult_mortality       -0.696\n",
       "3                     infant_deaths       -0.197\n",
       "4                           alcohol        0.381\n",
       "5            percentage_expenditure        0.382\n",
       "6                       hepatitis_b        0.215\n",
       "7                           measles       -0.158\n",
       "8                               bmi        0.555\n",
       "9                 under_five_deaths       -0.222\n",
       "10                            polio        0.463\n",
       "11                total_expenditure        0.197\n",
       "12                       diphtheria        0.476\n",
       "13                          hivaids       -0.556\n",
       "14                              gdp        0.416\n",
       "15                       population       -0.015\n",
       "16                           thin_1       -0.475\n",
       "17                           thin_5       -0.471\n",
       "18  income_composition_of_resources        0.695\n",
       "19                        schooling        0.714"
      ]
     },
     "execution_count": 40,
     "metadata": {},
     "output_type": "execute_result"
    }
   ],
   "source": [
    "linearity(data,'life_expectancy')"
   ]
  },
  {
   "cell_type": "markdown",
   "metadata": {},
   "source": [
    "From table result above, we get the information that 'life_expectancy' (target variable) have strong positive relationship with predictor variable 'schooling' and have strong negative relationship with predictor variable 'adult_mortality'."
   ]
  },
  {
   "cell_type": "markdown",
   "metadata": {},
   "source": [
    "<h2>Modelling</h2>"
   ]
  },
  {
   "cell_type": "markdown",
   "metadata": {},
   "source": [
    "<h3>A. Model 1 : Using original data </h3>"
   ]
  },
  {
   "cell_type": "markdown",
   "metadata": {},
   "source": [
    "First of all, we need to seperate variable target from variable predictor, create dummy variable for categorical data and split the data into train data and test data. "
   ]
  },
  {
   "cell_type": "code",
   "execution_count": 41,
   "metadata": {
    "ExecuteTime": {
     "end_time": "2020-05-22T23:05:24.909354Z",
     "start_time": "2020-05-22T23:05:24.900348Z"
    }
   },
   "outputs": [],
   "source": [
    "X_ = data.drop([\"life_expectancy\"], axis = 1)\n",
    "y = data.life_expectancy.values"
   ]
  },
  {
   "cell_type": "code",
   "execution_count": 42,
   "metadata": {
    "ExecuteTime": {
     "end_time": "2020-05-22T23:05:25.058612Z",
     "start_time": "2020-05-22T23:05:24.912357Z"
    }
   },
   "outputs": [
    {
     "data": {
      "text/html": [
       "<div>\n",
       "<style scoped>\n",
       "    .dataframe tbody tr th:only-of-type {\n",
       "        vertical-align: middle;\n",
       "    }\n",
       "\n",
       "    .dataframe tbody tr th {\n",
       "        vertical-align: top;\n",
       "    }\n",
       "\n",
       "    .dataframe thead th {\n",
       "        text-align: right;\n",
       "    }\n",
       "</style>\n",
       "<table border=\"1\" class=\"dataframe\">\n",
       "  <thead>\n",
       "    <tr style=\"text-align: right;\">\n",
       "      <th></th>\n",
       "      <th>year</th>\n",
       "      <th>adult_mortality</th>\n",
       "      <th>infant_deaths</th>\n",
       "      <th>alcohol</th>\n",
       "      <th>percentage_expenditure</th>\n",
       "      <th>hepatitis_b</th>\n",
       "      <th>measles</th>\n",
       "      <th>bmi</th>\n",
       "      <th>under_five_deaths</th>\n",
       "      <th>polio</th>\n",
       "      <th>total_expenditure</th>\n",
       "      <th>diphtheria</th>\n",
       "      <th>hivaids</th>\n",
       "      <th>gdp</th>\n",
       "      <th>population</th>\n",
       "      <th>thin_1</th>\n",
       "      <th>thin_5</th>\n",
       "      <th>income_composition_of_resources</th>\n",
       "      <th>schooling</th>\n",
       "      <th>status_Developing</th>\n",
       "    </tr>\n",
       "  </thead>\n",
       "  <tbody>\n",
       "    <tr>\n",
       "      <th>0</th>\n",
       "      <td>2015</td>\n",
       "      <td>263.000</td>\n",
       "      <td>62</td>\n",
       "      <td>0.010</td>\n",
       "      <td>71.280</td>\n",
       "      <td>65.000</td>\n",
       "      <td>1154</td>\n",
       "      <td>19.100</td>\n",
       "      <td>83</td>\n",
       "      <td>6.000</td>\n",
       "      <td>8.160</td>\n",
       "      <td>65.000</td>\n",
       "      <td>0.100</td>\n",
       "      <td>584.259</td>\n",
       "      <td>33736494.000</td>\n",
       "      <td>17.200</td>\n",
       "      <td>17.300</td>\n",
       "      <td>0.479</td>\n",
       "      <td>10.100</td>\n",
       "      <td>1</td>\n",
       "    </tr>\n",
       "    <tr>\n",
       "      <th>1</th>\n",
       "      <td>2014</td>\n",
       "      <td>271.000</td>\n",
       "      <td>64</td>\n",
       "      <td>0.010</td>\n",
       "      <td>73.524</td>\n",
       "      <td>62.000</td>\n",
       "      <td>492</td>\n",
       "      <td>18.600</td>\n",
       "      <td>86</td>\n",
       "      <td>58.000</td>\n",
       "      <td>8.180</td>\n",
       "      <td>62.000</td>\n",
       "      <td>0.100</td>\n",
       "      <td>612.697</td>\n",
       "      <td>327582.000</td>\n",
       "      <td>17.500</td>\n",
       "      <td>17.500</td>\n",
       "      <td>0.476</td>\n",
       "      <td>10.000</td>\n",
       "      <td>1</td>\n",
       "    </tr>\n",
       "    <tr>\n",
       "      <th>2</th>\n",
       "      <td>2013</td>\n",
       "      <td>268.000</td>\n",
       "      <td>66</td>\n",
       "      <td>0.010</td>\n",
       "      <td>73.219</td>\n",
       "      <td>64.000</td>\n",
       "      <td>430</td>\n",
       "      <td>18.100</td>\n",
       "      <td>89</td>\n",
       "      <td>62.000</td>\n",
       "      <td>8.130</td>\n",
       "      <td>64.000</td>\n",
       "      <td>0.100</td>\n",
       "      <td>631.745</td>\n",
       "      <td>31731688.000</td>\n",
       "      <td>17.700</td>\n",
       "      <td>17.700</td>\n",
       "      <td>0.470</td>\n",
       "      <td>9.900</td>\n",
       "      <td>1</td>\n",
       "    </tr>\n",
       "    <tr>\n",
       "      <th>3</th>\n",
       "      <td>2012</td>\n",
       "      <td>272.000</td>\n",
       "      <td>69</td>\n",
       "      <td>0.010</td>\n",
       "      <td>78.184</td>\n",
       "      <td>67.000</td>\n",
       "      <td>2787</td>\n",
       "      <td>17.600</td>\n",
       "      <td>93</td>\n",
       "      <td>67.000</td>\n",
       "      <td>8.520</td>\n",
       "      <td>67.000</td>\n",
       "      <td>0.100</td>\n",
       "      <td>669.959</td>\n",
       "      <td>3696958.000</td>\n",
       "      <td>17.900</td>\n",
       "      <td>18.000</td>\n",
       "      <td>0.463</td>\n",
       "      <td>9.800</td>\n",
       "      <td>1</td>\n",
       "    </tr>\n",
       "    <tr>\n",
       "      <th>4</th>\n",
       "      <td>2011</td>\n",
       "      <td>275.000</td>\n",
       "      <td>71</td>\n",
       "      <td>0.010</td>\n",
       "      <td>7.097</td>\n",
       "      <td>68.000</td>\n",
       "      <td>3013</td>\n",
       "      <td>17.200</td>\n",
       "      <td>97</td>\n",
       "      <td>68.000</td>\n",
       "      <td>7.870</td>\n",
       "      <td>68.000</td>\n",
       "      <td>0.100</td>\n",
       "      <td>63.537</td>\n",
       "      <td>2978599.000</td>\n",
       "      <td>18.200</td>\n",
       "      <td>18.200</td>\n",
       "      <td>0.454</td>\n",
       "      <td>9.500</td>\n",
       "      <td>1</td>\n",
       "    </tr>\n",
       "  </tbody>\n",
       "</table>\n",
       "</div>"
      ],
      "text/plain": [
       "   year  adult_mortality  infant_deaths  alcohol  percentage_expenditure  \\\n",
       "0  2015          263.000             62    0.010                  71.280   \n",
       "1  2014          271.000             64    0.010                  73.524   \n",
       "2  2013          268.000             66    0.010                  73.219   \n",
       "3  2012          272.000             69    0.010                  78.184   \n",
       "4  2011          275.000             71    0.010                   7.097   \n",
       "\n",
       "   hepatitis_b  measles    bmi  under_five_deaths  polio  total_expenditure  \\\n",
       "0       65.000     1154 19.100                 83  6.000              8.160   \n",
       "1       62.000      492 18.600                 86 58.000              8.180   \n",
       "2       64.000      430 18.100                 89 62.000              8.130   \n",
       "3       67.000     2787 17.600                 93 67.000              8.520   \n",
       "4       68.000     3013 17.200                 97 68.000              7.870   \n",
       "\n",
       "   diphtheria  hivaids     gdp   population  thin_1  thin_5  \\\n",
       "0      65.000    0.100 584.259 33736494.000  17.200  17.300   \n",
       "1      62.000    0.100 612.697   327582.000  17.500  17.500   \n",
       "2      64.000    0.100 631.745 31731688.000  17.700  17.700   \n",
       "3      67.000    0.100 669.959  3696958.000  17.900  18.000   \n",
       "4      68.000    0.100  63.537  2978599.000  18.200  18.200   \n",
       "\n",
       "   income_composition_of_resources  schooling  status_Developing  \n",
       "0                            0.479     10.100                  1  \n",
       "1                            0.476     10.000                  1  \n",
       "2                            0.470      9.900                  1  \n",
       "3                            0.463      9.800                  1  \n",
       "4                            0.454      9.500                  1  "
      ]
     },
     "execution_count": 42,
     "metadata": {},
     "output_type": "execute_result"
    }
   ],
   "source": [
    "X = pd.get_dummies(X_, columns = data.select_dtypes('category').columns, drop_first = True)\n",
    "X.head()"
   ]
  },
  {
   "cell_type": "code",
   "execution_count": 43,
   "metadata": {
    "ExecuteTime": {
     "end_time": "2020-05-22T23:05:25.174990Z",
     "start_time": "2020-05-22T23:05:25.060595Z"
    }
   },
   "outputs": [
    {
     "name": "stdout",
     "output_type": "stream",
     "text": [
      "X Train: (2350, 20)\n",
      "X Test: (588, 20)\n",
      "y Train: (2350,)\n",
      "y Test: (588,)\n"
     ]
    }
   ],
   "source": [
    "X_train, X_test, y_train, y_test = train_test_split(X, y, test_size = 0.2, random_state = 42)\n",
    "print(\"X Train:\", X_train.shape)\n",
    "print(\"X Test:\", X_test.shape)\n",
    "print(\"y Train:\", y_train.shape)\n",
    "print(\"y Test:\", y_test.shape)\n"
   ]
  },
  {
   "cell_type": "markdown",
   "metadata": {},
   "source": [
    "<h4>Modelling using Linear Regression</h4>"
   ]
  },
  {
   "cell_type": "code",
   "execution_count": 44,
   "metadata": {
    "ExecuteTime": {
     "end_time": "2020-05-22T23:05:26.319050Z",
     "start_time": "2020-05-22T23:05:25.176992Z"
    }
   },
   "outputs": [
    {
     "data": {
      "text/plain": [
       "LinearRegression(copy_X=True, fit_intercept=True, n_jobs=None, normalize=False)"
      ]
     },
     "execution_count": 44,
     "metadata": {},
     "output_type": "execute_result"
    }
   ],
   "source": [
    "lm = LinearRegression()\n",
    "lm.fit(X_train,y_train)"
   ]
  },
  {
   "cell_type": "code",
   "execution_count": 45,
   "metadata": {
    "ExecuteTime": {
     "end_time": "2020-05-22T23:05:26.358080Z",
     "start_time": "2020-05-22T23:05:26.322053Z"
    }
   },
   "outputs": [
    {
     "data": {
      "text/html": [
       "<div>\n",
       "<style scoped>\n",
       "    .dataframe tbody tr th:only-of-type {\n",
       "        vertical-align: middle;\n",
       "    }\n",
       "\n",
       "    .dataframe tbody tr th {\n",
       "        vertical-align: top;\n",
       "    }\n",
       "\n",
       "    .dataframe thead th {\n",
       "        text-align: right;\n",
       "    }\n",
       "</style>\n",
       "<table border=\"1\" class=\"dataframe\">\n",
       "  <thead>\n",
       "    <tr style=\"text-align: right;\">\n",
       "      <th></th>\n",
       "      <th>Actual</th>\n",
       "      <th>Predicted</th>\n",
       "    </tr>\n",
       "  </thead>\n",
       "  <tbody>\n",
       "    <tr>\n",
       "      <th>0</th>\n",
       "      <td>73.700</td>\n",
       "      <td>67.259</td>\n",
       "    </tr>\n",
       "    <tr>\n",
       "      <th>1</th>\n",
       "      <td>75.900</td>\n",
       "      <td>77.118</td>\n",
       "    </tr>\n",
       "    <tr>\n",
       "      <th>2</th>\n",
       "      <td>74.200</td>\n",
       "      <td>74.927</td>\n",
       "    </tr>\n",
       "    <tr>\n",
       "      <th>3</th>\n",
       "      <td>76.800</td>\n",
       "      <td>77.493</td>\n",
       "    </tr>\n",
       "    <tr>\n",
       "      <th>4</th>\n",
       "      <td>51.900</td>\n",
       "      <td>47.455</td>\n",
       "    </tr>\n",
       "    <tr>\n",
       "      <th>5</th>\n",
       "      <td>49.600</td>\n",
       "      <td>50.431</td>\n",
       "    </tr>\n",
       "    <tr>\n",
       "      <th>6</th>\n",
       "      <td>67.400</td>\n",
       "      <td>67.871</td>\n",
       "    </tr>\n",
       "    <tr>\n",
       "      <th>7</th>\n",
       "      <td>73.900</td>\n",
       "      <td>70.722</td>\n",
       "    </tr>\n",
       "    <tr>\n",
       "      <th>8</th>\n",
       "      <td>77.200</td>\n",
       "      <td>74.405</td>\n",
       "    </tr>\n",
       "    <tr>\n",
       "      <th>9</th>\n",
       "      <td>55.000</td>\n",
       "      <td>54.585</td>\n",
       "    </tr>\n",
       "  </tbody>\n",
       "</table>\n",
       "</div>"
      ],
      "text/plain": [
       "   Actual  Predicted\n",
       "0  73.700     67.259\n",
       "1  75.900     77.118\n",
       "2  74.200     74.927\n",
       "3  76.800     77.493\n",
       "4  51.900     47.455\n",
       "5  49.600     50.431\n",
       "6  67.400     67.871\n",
       "7  73.900     70.722\n",
       "8  77.200     74.405\n",
       "9  55.000     54.585"
      ]
     },
     "execution_count": 45,
     "metadata": {},
     "output_type": "execute_result"
    }
   ],
   "source": [
    "predictions = lm.predict(X_test)\n",
    "pred = pd.DataFrame({'Actual': y_test, 'Predicted': predictions})\n",
    "pred1 = pred.head(10)\n",
    "pred1"
   ]
  },
  {
   "cell_type": "code",
   "execution_count": 46,
   "metadata": {
    "ExecuteTime": {
     "end_time": "2020-05-22T23:05:27.226652Z",
     "start_time": "2020-05-22T23:05:26.361080Z"
    },
    "scrolled": true
   },
   "outputs": [
    {
     "data": {
      "image/png": "[encoded data removed]",
      "text/plain": [
       "<Figure size 720x576 with 1 Axes>"
      ]
     },
     "metadata": {
      "needs_background": "light"
     },
     "output_type": "display_data"
    }
   ],
   "source": [
    "pred1.plot(kind='bar',figsize=(10,8))\n",
    "plt.grid(which='major', linestyle='-', linewidth='0.5', color='green')\n",
    "plt.grid(which='minor', linestyle=':', linewidth='0.5', color='black')\n",
    "plt.show()"
   ]
  },
  {
   "cell_type": "markdown",
   "metadata": {},
   "source": [
    "Table and plot visualization above shown that actual value and prediction value from the model aren't very precise but they have close enough value. For example in the first index, actual value is 73.700, whilst the predicted value is 67.259. "
   ]
  },
  {
   "cell_type": "markdown",
   "metadata": {},
   "source": [
    "<h3>Statistic summary from the model</h3>"
   ]
  },
  {
   "cell_type": "code",
   "execution_count": 48,
   "metadata": {
    "ExecuteTime": {
     "end_time": "2020-05-22T23:06:47.612686Z",
     "start_time": "2020-05-22T23:06:38.765864Z"
    },
    "scrolled": false
   },
   "outputs": [
    {
     "data": {
      "text/html": [
       "<table class=\"simpletable\">\n",
       "<caption>OLS Regression Results</caption>\n",
       "<tr>\n",
       "  <th>Dep. Variable:</th>            <td>y</td>        <th>  R-squared:         </th> <td>   0.819</td> \n",
       "</tr>\n",
       "<tr>\n",
       "  <th>Model:</th>                   <td>OLS</td>       <th>  Adj. R-squared:    </th> <td>   0.818</td> \n",
       "</tr>\n",
       "<tr>\n",
       "  <th>Method:</th>             <td>Least Squares</td>  <th>  F-statistic:       </th> <td>   662.1</td> \n",
       "</tr>\n",
       "<tr>\n",
       "  <th>Date:</th>             <td>Sat, 23 May 2020</td> <th>  Prob (F-statistic):</th>  <td>  0.00</td>  \n",
       "</tr>\n",
       "<tr>\n",
       "  <th>Time:</th>                 <td>06:06:47</td>     <th>  Log-Likelihood:    </th> <td> -8270.3</td> \n",
       "</tr>\n",
       "<tr>\n",
       "  <th>No. Observations:</th>      <td>  2938</td>      <th>  AIC:               </th> <td>1.658e+04</td>\n",
       "</tr>\n",
       "<tr>\n",
       "  <th>Df Residuals:</th>          <td>  2917</td>      <th>  BIC:               </th> <td>1.671e+04</td>\n",
       "</tr>\n",
       "<tr>\n",
       "  <th>Df Model:</th>              <td>    20</td>      <th>                     </th>     <td> </td>    \n",
       "</tr>\n",
       "<tr>\n",
       "  <th>Covariance Type:</th>      <td>nonrobust</td>    <th>                     </th>     <td> </td>    \n",
       "</tr>\n",
       "</table>\n",
       "<table class=\"simpletable\">\n",
       "<tr>\n",
       "                 <td></td>                    <th>coef</th>     <th>std err</th>      <th>t</th>      <th>P>|t|</th>  <th>[0.025</th>    <th>0.975]</th>  \n",
       "</tr>\n",
       "<tr>\n",
       "  <th>const</th>                           <td>   86.3789</td> <td>   34.743</td> <td>    2.486</td> <td> 0.013</td> <td>   18.255</td> <td>  154.503</td>\n",
       "</tr>\n",
       "<tr>\n",
       "  <th>year</th>                            <td>   -0.0151</td> <td>    0.017</td> <td>   -0.867</td> <td> 0.386</td> <td>   -0.049</td> <td>    0.019</td>\n",
       "</tr>\n",
       "<tr>\n",
       "  <th>adult_mortality</th>                 <td>   -0.0196</td> <td>    0.001</td> <td>  -24.551</td> <td> 0.000</td> <td>   -0.021</td> <td>   -0.018</td>\n",
       "</tr>\n",
       "<tr>\n",
       "  <th>infant_deaths</th>                   <td>    0.0975</td> <td>    0.008</td> <td>   11.581</td> <td> 0.000</td> <td>    0.081</td> <td>    0.114</td>\n",
       "</tr>\n",
       "<tr>\n",
       "  <th>alcohol</th>                         <td>    0.0499</td> <td>    0.025</td> <td>    2.002</td> <td> 0.045</td> <td>    0.001</td> <td>    0.099</td>\n",
       "</tr>\n",
       "<tr>\n",
       "  <th>percentage_expenditure</th>          <td>    0.0003</td> <td> 6.74e-05</td> <td>    4.522</td> <td> 0.000</td> <td>    0.000</td> <td>    0.000</td>\n",
       "</tr>\n",
       "<tr>\n",
       "  <th>hepatitis_b</th>                     <td>   -0.0084</td> <td>    0.004</td> <td>   -2.387</td> <td> 0.017</td> <td>   -0.015</td> <td>   -0.002</td>\n",
       "</tr>\n",
       "<tr>\n",
       "  <th>measles</th>                         <td>-2.757e-05</td> <td>  7.7e-06</td> <td>   -3.580</td> <td> 0.000</td> <td>-4.27e-05</td> <td>-1.25e-05</td>\n",
       "</tr>\n",
       "<tr>\n",
       "  <th>bmi</th>                             <td>    0.0474</td> <td>    0.005</td> <td>    9.729</td> <td> 0.000</td> <td>    0.038</td> <td>    0.057</td>\n",
       "</tr>\n",
       "<tr>\n",
       "  <th>under_five_deaths</th>               <td>   -0.0732</td> <td>    0.006</td> <td>  -11.854</td> <td> 0.000</td> <td>   -0.085</td> <td>   -0.061</td>\n",
       "</tr>\n",
       "<tr>\n",
       "  <th>polio</th>                           <td>    0.0256</td> <td>    0.004</td> <td>    5.720</td> <td> 0.000</td> <td>    0.017</td> <td>    0.034</td>\n",
       "</tr>\n",
       "<tr>\n",
       "  <th>total_expenditure</th>               <td>    0.0338</td> <td>    0.034</td> <td>    0.994</td> <td> 0.320</td> <td>   -0.033</td> <td>    0.100</td>\n",
       "</tr>\n",
       "<tr>\n",
       "  <th>diphtheria</th>                      <td>    0.0409</td> <td>    0.005</td> <td>    8.763</td> <td> 0.000</td> <td>    0.032</td> <td>    0.050</td>\n",
       "</tr>\n",
       "<tr>\n",
       "  <th>hivaids</th>                         <td>   -0.4719</td> <td>    0.018</td> <td>  -26.685</td> <td> 0.000</td> <td>   -0.507</td> <td>   -0.437</td>\n",
       "</tr>\n",
       "<tr>\n",
       "  <th>gdp</th>                             <td> 2.978e-06</td> <td> 9.68e-06</td> <td>    0.308</td> <td> 0.758</td> <td> -1.6e-05</td> <td>  2.2e-05</td>\n",
       "</tr>\n",
       "<tr>\n",
       "  <th>population</th>                      <td> 1.523e-09</td> <td> 1.65e-09</td> <td>    0.923</td> <td> 0.356</td> <td>-1.71e-09</td> <td> 4.76e-09</td>\n",
       "</tr>\n",
       "<tr>\n",
       "  <th>thin_1</th>                          <td>   -0.0798</td> <td>    0.050</td> <td>   -1.588</td> <td> 0.112</td> <td>   -0.178</td> <td>    0.019</td>\n",
       "</tr>\n",
       "<tr>\n",
       "  <th>thin_5</th>                          <td>    0.0095</td> <td>    0.049</td> <td>    0.191</td> <td> 0.848</td> <td>   -0.088</td> <td>    0.106</td>\n",
       "</tr>\n",
       "<tr>\n",
       "  <th>income_composition_of_resources</th> <td>    6.0724</td> <td>    0.636</td> <td>    9.543</td> <td> 0.000</td> <td>    4.825</td> <td>    7.320</td>\n",
       "</tr>\n",
       "<tr>\n",
       "  <th>schooling</th>                       <td>    0.6401</td> <td>    0.041</td> <td>   15.466</td> <td> 0.000</td> <td>    0.559</td> <td>    0.721</td>\n",
       "</tr>\n",
       "<tr>\n",
       "  <th>status_Developing</th>               <td>   -1.4748</td> <td>    0.271</td> <td>   -5.447</td> <td> 0.000</td> <td>   -2.006</td> <td>   -0.944</td>\n",
       "</tr>\n",
       "</table>\n",
       "<table class=\"simpletable\">\n",
       "<tr>\n",
       "  <th>Omnibus:</th>       <td>133.954</td> <th>  Durbin-Watson:     </th> <td>   0.703</td>\n",
       "</tr>\n",
       "<tr>\n",
       "  <th>Prob(Omnibus):</th> <td> 0.000</td>  <th>  Jarque-Bera (JB):  </th> <td> 362.271</td>\n",
       "</tr>\n",
       "<tr>\n",
       "  <th>Skew:</th>          <td>-0.208</td>  <th>  Prob(JB):          </th> <td>2.16e-79</td>\n",
       "</tr>\n",
       "<tr>\n",
       "  <th>Kurtosis:</th>      <td> 4.669</td>  <th>  Cond. No.          </th> <td>2.60e+10</td>\n",
       "</tr>\n",
       "</table><br/><br/>Warnings:<br/>[1] Standard Errors assume that the covariance matrix of the errors is correctly specified.<br/>[2] The condition number is large, 2.6e+10. This might indicate that there are<br/>strong multicollinearity or other numerical problems."
      ],
      "text/plain": [
       "<class 'statsmodels.iolib.summary.Summary'>\n",
       "\"\"\"\n",
       "                            OLS Regression Results                            \n",
       "==============================================================================\n",
       "Dep. Variable:                      y   R-squared:                       0.819\n",
       "Model:                            OLS   Adj. R-squared:                  0.818\n",
       "Method:                 Least Squares   F-statistic:                     662.1\n",
       "Date:                Sat, 23 May 2020   Prob (F-statistic):               0.00\n",
       "Time:                        06:06:47   Log-Likelihood:                -8270.3\n",
       "No. Observations:                2938   AIC:                         1.658e+04\n",
       "Df Residuals:                    2917   BIC:                         1.671e+04\n",
       "Df Model:                          20                                         \n",
       "Covariance Type:            nonrobust                                         \n",
       "===================================================================================================\n",
       "                                      coef    std err          t      P>|t|      [0.025      0.975]\n",
       "---------------------------------------------------------------------------------------------------\n",
       "const                              86.3789     34.743      2.486      0.013      18.255     154.503\n",
       "year                               -0.0151      0.017     -0.867      0.386      -0.049       0.019\n",
       "adult_mortality                    -0.0196      0.001    -24.551      0.000      -0.021      -0.018\n",
       "infant_deaths                       0.0975      0.008     11.581      0.000       0.081       0.114\n",
       "alcohol                             0.0499      0.025      2.002      0.045       0.001       0.099\n",
       "percentage_expenditure              0.0003   6.74e-05      4.522      0.000       0.000       0.000\n",
       "hepatitis_b                        -0.0084      0.004     -2.387      0.017      -0.015      -0.002\n",
       "measles                         -2.757e-05    7.7e-06     -3.580      0.000   -4.27e-05   -1.25e-05\n",
       "bmi                                 0.0474      0.005      9.729      0.000       0.038       0.057\n",
       "under_five_deaths                  -0.0732      0.006    -11.854      0.000      -0.085      -0.061\n",
       "polio                               0.0256      0.004      5.720      0.000       0.017       0.034\n",
       "total_expenditure                   0.0338      0.034      0.994      0.320      -0.033       0.100\n",
       "diphtheria                          0.0409      0.005      8.763      0.000       0.032       0.050\n",
       "hivaids                            -0.4719      0.018    -26.685      0.000      -0.507      -0.437\n",
       "gdp                              2.978e-06   9.68e-06      0.308      0.758    -1.6e-05     2.2e-05\n",
       "population                       1.523e-09   1.65e-09      0.923      0.356   -1.71e-09    4.76e-09\n",
       "thin_1                             -0.0798      0.050     -1.588      0.112      -0.178       0.019\n",
       "thin_5                              0.0095      0.049      0.191      0.848      -0.088       0.106\n",
       "income_composition_of_resources     6.0724      0.636      9.543      0.000       4.825       7.320\n",
       "schooling                           0.6401      0.041     15.466      0.000       0.559       0.721\n",
       "status_Developing                  -1.4748      0.271     -5.447      0.000      -2.006      -0.944\n",
       "==============================================================================\n",
       "Omnibus:                      133.954   Durbin-Watson:                   0.703\n",
       "Prob(Omnibus):                  0.000   Jarque-Bera (JB):              362.271\n",
       "Skew:                          -0.208   Prob(JB):                     2.16e-79\n",
       "Kurtosis:                       4.669   Cond. No.                     2.60e+10\n",
       "==============================================================================\n",
       "\n",
       "Warnings:\n",
       "[1] Standard Errors assume that the covariance matrix of the errors is correctly specified.\n",
       "[2] The condition number is large, 2.6e+10. This might indicate that there are\n",
       "strong multicollinearity or other numerical problems.\n",
       "\"\"\""
      ]
     },
     "execution_count": 48,
     "metadata": {},
     "output_type": "execute_result"
    }
   ],
   "source": [
    "import statsmodels.api as sm\n",
    "X=sm.add_constant(X)\n",
    "model=sm.OLS(y,X).fit()\n",
    "model.summary()"
   ]
  },
  {
   "cell_type": "markdown",
   "metadata": {},
   "source": [
    "<b>R-Squared and Adj. R-Squared </b> are commonly used for explanatory purpose and explains how well selected independent variables explain the dependent variable. <br>\n",
    "<b>R-Squared :</b>have some information bias when using R-squared value, because when terms are increase R-Squared value will increases even though the model is not actually improving.<br>\n",
    "<b>Adj.R-Squared : </b> Bias information from R-squared value can be solved by Adj.R-squared. Value from Adj.R-squared will increase if adding useful terms and will decrease if adding less useful terms."
   ]
  },
  {
   "cell_type": "markdown",
   "metadata": {},
   "source": [
    "From the summary above we got a value of <b>0.818</b> for Adj.R-Squared."
   ]
  },
  {
   "cell_type": "markdown",
   "metadata": {},
   "source": [
    "<h4>Coefficient Value:</h4><br>\n",
    "From summary result above, shown information about coefficient values in each variables. 'schooling' variable have a value of 0.604, which mean that for a unit increase in schooling there is a increases of 0.604 units in the life of expectancy. "
   ]
  },
  {
   "cell_type": "markdown",
   "metadata": {},
   "source": [
    "<h3>Evaluate model performance 1</h3><br>\n",
    "This step aims to evaluate whether regression algorithm in this models have a good performance or not. There are three evaluation metrics are commonly used :<br>\n",
    "<b>1. MAE (Mean Absolute Error) :</b>the average of the absolute difference between the predicted values and observed value.<br>\n",
    "<b>2. MSE (Mean Squared Error) :</b>the mean of the squared errors .<br>\n",
    "<b>3. RMSE (Root Mean Squared Error) :</b> sample standard deviation of the differences between predicted values and observed values (called residuals)<br>"
   ]
  },
  {
   "cell_type": "code",
   "execution_count": 63,
   "metadata": {
    "ExecuteTime": {
     "end_time": "2020-05-22T23:12:04.685129Z",
     "start_time": "2020-05-22T23:12:04.677123Z"
    }
   },
   "outputs": [
    {
     "name": "stdout",
     "output_type": "stream",
     "text": [
      "Mean Absolute Error: 2.829179854291739\n",
      "Mean Squared Error: 14.822005464326935\n",
      "Root Mean Squared Error: 3.849935774052203\n"
     ]
    }
   ],
   "source": [
    "print('Mean Absolute Error:', metrics.mean_absolute_error(y_test, predictions))  \n",
    "print('Mean Squared Error:', metrics.mean_squared_error(y_test, predictions))  \n",
    "print('Root Mean Squared Error:', np.sqrt(metrics.mean_squared_error(y_test, predictions)))"
   ]
  },
  {
   "cell_type": "markdown",
   "metadata": {},
   "source": [
    "<h3>Assumption Check Model 1</h3>"
   ]
  },
  {
   "cell_type": "markdown",
   "metadata": {},
   "source": [
    "Good model can be determined by less or no Multicolinearity."
   ]
  },
  {
   "cell_type": "markdown",
   "metadata": {},
   "source": [
    "<h4>Multicolinearity</h4>Strong correlation between predictor variables, indicated with VIF (variance inflation factor) value > 10."
   ]
  },
  {
   "cell_type": "code",
   "execution_count": 49,
   "metadata": {
    "ExecuteTime": {
     "end_time": "2020-05-22T23:06:47.981929Z",
     "start_time": "2020-05-22T23:06:47.974925Z"
    },
    "scrolled": false
   },
   "outputs": [],
   "source": [
    "#gather features\n",
    "col_dat = data.drop(['life_expectancy'],axis=1)\n",
    "features = \"+\".join(col_dat.columns)"
   ]
  },
  {
   "cell_type": "code",
   "execution_count": 50,
   "metadata": {
    "ExecuteTime": {
     "end_time": "2020-05-22T23:06:49.302774Z",
     "start_time": "2020-05-22T23:06:49.218735Z"
    }
   },
   "outputs": [],
   "source": [
    "y, X = dmatrices('life_expectancy ~' + features, data, return_type='dataframe')"
   ]
  },
  {
   "cell_type": "code",
   "execution_count": 51,
   "metadata": {
    "ExecuteTime": {
     "end_time": "2020-05-22T23:06:49.807132Z",
     "start_time": "2020-05-22T23:06:49.688049Z"
    }
   },
   "outputs": [],
   "source": [
    "vif = pd.DataFrame()\n",
    "vif[\"VIF Factor\"] = [variance_inflation_factor(X.values, i) for i in range(X.shape[1])]\n",
    "vif[\"features\"] = X.columns"
   ]
  },
  {
   "cell_type": "code",
   "execution_count": 52,
   "metadata": {
    "ExecuteTime": {
     "end_time": "2020-05-22T23:06:50.222426Z",
     "start_time": "2020-05-22T23:06:50.210418Z"
    },
    "scrolled": true
   },
   "outputs": [
    {
     "data": {
      "text/html": [
       "<div>\n",
       "<style scoped>\n",
       "    .dataframe tbody tr th:only-of-type {\n",
       "        vertical-align: middle;\n",
       "    }\n",
       "\n",
       "    .dataframe tbody tr th {\n",
       "        vertical-align: top;\n",
       "    }\n",
       "\n",
       "    .dataframe thead th {\n",
       "        text-align: right;\n",
       "    }\n",
       "</style>\n",
       "<table border=\"1\" class=\"dataframe\">\n",
       "  <thead>\n",
       "    <tr style=\"text-align: right;\">\n",
       "      <th></th>\n",
       "      <th>VIF Factor</th>\n",
       "      <th>features</th>\n",
       "    </tr>\n",
       "  </thead>\n",
       "  <tbody>\n",
       "    <tr>\n",
       "      <th>0</th>\n",
       "      <td>215833.455</td>\n",
       "      <td>Intercept</td>\n",
       "    </tr>\n",
       "    <tr>\n",
       "      <th>4</th>\n",
       "      <td>176.026</td>\n",
       "      <td>infant_deaths</td>\n",
       "    </tr>\n",
       "    <tr>\n",
       "      <th>10</th>\n",
       "      <td>175.270</td>\n",
       "      <td>under_five_deaths</td>\n",
       "    </tr>\n",
       "  </tbody>\n",
       "</table>\n",
       "</div>"
      ],
      "text/plain": [
       "    VIF Factor           features\n",
       "0   215833.455          Intercept\n",
       "4      176.026      infant_deaths\n",
       "10     175.270  under_five_deaths"
      ]
     },
     "execution_count": 52,
     "metadata": {},
     "output_type": "execute_result"
    }
   ],
   "source": [
    "vif[vif[\"VIF Factor\"]>10]"
   ]
  },
  {
   "cell_type": "markdown",
   "metadata": {},
   "source": [
    "From the result above, table shown that there are multicolinearity in infant_deaths and under_five_deaths variables. It is indicate that there are strong relationship between those two variables. Based on the business case and explanation variable above, we can decided whether we need to remove one of variable or tunning the variables by feature engineering."
   ]
  },
  {
   "cell_type": "markdown",
   "metadata": {},
   "source": [
    "<h4>Feature Engineering</h4>"
   ]
  },
  {
   "cell_type": "code",
   "execution_count": 69,
   "metadata": {
    "ExecuteTime": {
     "end_time": "2020-05-23T00:39:59.846815Z",
     "start_time": "2020-05-23T00:39:59.562622Z"
    }
   },
   "outputs": [
    {
     "data": {
      "text/plain": [
       "<Figure size 360x360 with 0 Axes>"
      ]
     },
     "metadata": {},
     "output_type": "display_data"
    },
    {
     "data": {
      "image/png": "[encoded data removed]",
      "text/plain": [
       "<Figure size 360x360 with 2 Axes>"
      ]
     },
     "metadata": {},
     "output_type": "display_data"
    }
   ],
   "source": [
    "cor_death = data[['infant_deaths','under_five_deaths']]\n",
    "pd.set_option('precision', 3)\n",
    "correlation=cor_death.corr(method='pearson')\n",
    "# heatmap of the correlation \n",
    "plt.figure(figsize=(5,5))\n",
    "mask = np.zeros_like(correlation)\n",
    "mask[np.triu_indices_from(mask)] = True\n",
    "with sns.axes_style(\"white\"):\n",
    "    f, ax = plt.subplots(figsize=(5, 5))\n",
    "    ax = sns.heatmap(correlation, mask=mask, square=True,annot=True,vmin=-1,vmax=1,cmap=\"YlOrRd_r\")"
   ]
  },
  {
   "cell_type": "markdown",
   "metadata": {},
   "source": [
    "Visualization above shown that correlation between infant_death and under_five_deaths is exactly 1. Based on the business case and description variable, it was possibly enough since under five years old are classified in age of infant. So, for feature engineering steps, we can remove one of these variables. "
   ]
  },
  {
   "cell_type": "markdown",
   "metadata": {},
   "source": [
    "<h4>Remove under five death variable</h4>"
   ]
  },
  {
   "cell_type": "code",
   "execution_count": 53,
   "metadata": {
    "ExecuteTime": {
     "end_time": "2020-05-22T23:06:51.398574Z",
     "start_time": "2020-05-22T23:06:51.394552Z"
    }
   },
   "outputs": [],
   "source": [
    "data_new = data.copy()"
   ]
  },
  {
   "cell_type": "code",
   "execution_count": 54,
   "metadata": {
    "ExecuteTime": {
     "end_time": "2020-05-22T23:06:51.826051Z",
     "start_time": "2020-05-22T23:06:51.820046Z"
    }
   },
   "outputs": [
    {
     "data": {
      "text/plain": [
       "Index(['year', 'status', 'life_expectancy', 'adult_mortality', 'infant_deaths',\n",
       "       'alcohol', 'percentage_expenditure', 'hepatitis_b', 'measles', 'bmi',\n",
       "       'under_five_deaths', 'polio', 'total_expenditure', 'diphtheria',\n",
       "       'hivaids', 'gdp', 'population', 'thin_1', 'thin_5',\n",
       "       'income_composition_of_resources', 'schooling'],\n",
       "      dtype='object')"
      ]
     },
     "execution_count": 54,
     "metadata": {},
     "output_type": "execute_result"
    }
   ],
   "source": [
    "data_new.columns"
   ]
  },
  {
   "cell_type": "code",
   "execution_count": 55,
   "metadata": {
    "ExecuteTime": {
     "end_time": "2020-05-22T23:06:52.293383Z",
     "start_time": "2020-05-22T23:06:52.286378Z"
    },
    "scrolled": true
   },
   "outputs": [],
   "source": [
    "#1. Drop under_five_death variable\n",
    "data_new.drop(['under_five_deaths'], axis=1, inplace=True)"
   ]
  },
  {
   "cell_type": "markdown",
   "metadata": {
    "ExecuteTime": {
     "end_time": "2020-05-19T08:51:15.711834Z",
     "start_time": "2020-05-19T08:51:15.705830Z"
    }
   },
   "source": [
    "<h3>B. Model 2 : without multicolinearity</h3>"
   ]
  },
  {
   "cell_type": "markdown",
   "metadata": {},
   "source": [
    "After removing multicolinearity, create the second models."
   ]
  },
  {
   "cell_type": "code",
   "execution_count": 56,
   "metadata": {
    "ExecuteTime": {
     "end_time": "2020-05-22T23:06:53.052332Z",
     "start_time": "2020-05-22T23:06:53.047329Z"
    }
   },
   "outputs": [],
   "source": [
    "X_new_mod = data_new.drop([\"life_expectancy\"], axis = 1)\n",
    "y_new = data_new.life_expectancy.values"
   ]
  },
  {
   "cell_type": "code",
   "execution_count": 57,
   "metadata": {
    "ExecuteTime": {
     "end_time": "2020-05-22T23:06:53.492641Z",
     "start_time": "2020-05-22T23:06:53.479631Z"
    }
   },
   "outputs": [],
   "source": [
    "X_new = pd.get_dummies(X_new_mod, columns = data_new.select_dtypes('category').columns, drop_first = True)\n"
   ]
  },
  {
   "cell_type": "code",
   "execution_count": 58,
   "metadata": {
    "ExecuteTime": {
     "end_time": "2020-05-22T23:06:54.017012Z",
     "start_time": "2020-05-22T23:06:54.004002Z"
    }
   },
   "outputs": [
    {
     "name": "stdout",
     "output_type": "stream",
     "text": [
      "X Train: (2350, 19)\n",
      "X Test: (588, 19)\n",
      "y Train: (2350,)\n",
      "y Test: (588,)\n"
     ]
    }
   ],
   "source": [
    "X_train_new, X_test_new, y_train_new, y_test_new = train_test_split(X_new, y_new, test_size = 0.2, random_state = 42)\n",
    "print(\"X Train:\", X_train_new.shape)\n",
    "print(\"X Test:\", X_test_new.shape)\n",
    "print(\"y Train:\", y_train_new.shape)\n",
    "print(\"y Test:\", y_test_new.shape)\n"
   ]
  },
  {
   "cell_type": "code",
   "execution_count": 59,
   "metadata": {
    "ExecuteTime": {
     "end_time": "2020-05-22T23:06:54.535881Z",
     "start_time": "2020-05-22T23:06:54.500859Z"
    }
   },
   "outputs": [
    {
     "data": {
      "text/plain": [
       "LinearRegression(copy_X=True, fit_intercept=True, n_jobs=None, normalize=False)"
      ]
     },
     "execution_count": 59,
     "metadata": {},
     "output_type": "execute_result"
    }
   ],
   "source": [
    "lm_new = LinearRegression()\n",
    "lm_new.fit(X_train_new,y_train_new)"
   ]
  },
  {
   "cell_type": "code",
   "execution_count": 62,
   "metadata": {
    "ExecuteTime": {
     "end_time": "2020-05-22T23:06:56.188880Z",
     "start_time": "2020-05-22T23:06:56.138846Z"
    }
   },
   "outputs": [
    {
     "data": {
      "text/html": [
       "<table class=\"simpletable\">\n",
       "<caption>OLS Regression Results</caption>\n",
       "<tr>\n",
       "  <th>Dep. Variable:</th>            <td>y</td>        <th>  R-squared:         </th> <td>   0.811</td> \n",
       "</tr>\n",
       "<tr>\n",
       "  <th>Model:</th>                   <td>OLS</td>       <th>  Adj. R-squared:    </th> <td>   0.810</td> \n",
       "</tr>\n",
       "<tr>\n",
       "  <th>Method:</th>             <td>Least Squares</td>  <th>  F-statistic:       </th> <td>   658.1</td> \n",
       "</tr>\n",
       "<tr>\n",
       "  <th>Date:</th>             <td>Sat, 23 May 2020</td> <th>  Prob (F-statistic):</th>  <td>  0.00</td>  \n",
       "</tr>\n",
       "<tr>\n",
       "  <th>Time:</th>                 <td>06:06:56</td>     <th>  Log-Likelihood:    </th> <td> -8339.4</td> \n",
       "</tr>\n",
       "<tr>\n",
       "  <th>No. Observations:</th>      <td>  2938</td>      <th>  AIC:               </th> <td>1.672e+04</td>\n",
       "</tr>\n",
       "<tr>\n",
       "  <th>Df Residuals:</th>          <td>  2918</td>      <th>  BIC:               </th> <td>1.684e+04</td>\n",
       "</tr>\n",
       "<tr>\n",
       "  <th>Df Model:</th>              <td>    19</td>      <th>                     </th>     <td> </td>    \n",
       "</tr>\n",
       "<tr>\n",
       "  <th>Covariance Type:</th>      <td>nonrobust</td>    <th>                     </th>     <td> </td>    \n",
       "</tr>\n",
       "</table>\n",
       "<table class=\"simpletable\">\n",
       "<tr>\n",
       "                 <td></td>                    <th>coef</th>     <th>std err</th>      <th>t</th>      <th>P>|t|</th>  <th>[0.025</th>    <th>0.975]</th>  \n",
       "</tr>\n",
       "<tr>\n",
       "  <th>const</th>                           <td>   94.0603</td> <td>   35.558</td> <td>    2.645</td> <td> 0.008</td> <td>   24.339</td> <td>  163.781</td>\n",
       "</tr>\n",
       "<tr>\n",
       "  <th>year</th>                            <td>   -0.0195</td> <td>    0.018</td> <td>   -1.098</td> <td> 0.272</td> <td>   -0.054</td> <td>    0.015</td>\n",
       "</tr>\n",
       "<tr>\n",
       "  <th>adult_mortality</th>                 <td>   -0.0200</td> <td>    0.001</td> <td>  -24.505</td> <td> 0.000</td> <td>   -0.022</td> <td>   -0.018</td>\n",
       "</tr>\n",
       "<tr>\n",
       "  <th>infant_deaths</th>                   <td>   -0.0017</td> <td>    0.001</td> <td>   -1.752</td> <td> 0.080</td> <td>   -0.004</td> <td>    0.000</td>\n",
       "</tr>\n",
       "<tr>\n",
       "  <th>alcohol</th>                         <td>    0.0148</td> <td>    0.025</td> <td>    0.584</td> <td> 0.559</td> <td>   -0.035</td> <td>    0.064</td>\n",
       "</tr>\n",
       "<tr>\n",
       "  <th>percentage_expenditure</th>          <td>    0.0003</td> <td>  6.9e-05</td> <td>    4.297</td> <td> 0.000</td> <td>    0.000</td> <td>    0.000</td>\n",
       "</tr>\n",
       "<tr>\n",
       "  <th>hepatitis_b</th>                     <td>   -0.0112</td> <td>    0.004</td> <td>   -3.109</td> <td> 0.002</td> <td>   -0.018</td> <td>   -0.004</td>\n",
       "</tr>\n",
       "<tr>\n",
       "  <th>measles</th>                         <td>-3.612e-05</td> <td> 7.85e-06</td> <td>   -4.602</td> <td> 0.000</td> <td>-5.15e-05</td> <td>-2.07e-05</td>\n",
       "</tr>\n",
       "<tr>\n",
       "  <th>bmi</th>                             <td>    0.0485</td> <td>    0.005</td> <td>    9.741</td> <td> 0.000</td> <td>    0.039</td> <td>    0.058</td>\n",
       "</tr>\n",
       "<tr>\n",
       "  <th>polio</th>                           <td>    0.0286</td> <td>    0.005</td> <td>    6.252</td> <td> 0.000</td> <td>    0.020</td> <td>    0.038</td>\n",
       "</tr>\n",
       "<tr>\n",
       "  <th>total_expenditure</th>               <td>    0.0400</td> <td>    0.035</td> <td>    1.152</td> <td> 0.249</td> <td>   -0.028</td> <td>    0.108</td>\n",
       "</tr>\n",
       "<tr>\n",
       "  <th>diphtheria</th>                      <td>    0.0481</td> <td>    0.005</td> <td>   10.154</td> <td> 0.000</td> <td>    0.039</td> <td>    0.057</td>\n",
       "</tr>\n",
       "<tr>\n",
       "  <th>hivaids</th>                         <td>   -0.4846</td> <td>    0.018</td> <td>  -26.817</td> <td> 0.000</td> <td>   -0.520</td> <td>   -0.449</td>\n",
       "</tr>\n",
       "<tr>\n",
       "  <th>gdp</th>                             <td> 1.036e-06</td> <td> 9.91e-06</td> <td>    0.105</td> <td> 0.917</td> <td>-1.84e-05</td> <td> 2.05e-05</td>\n",
       "</tr>\n",
       "<tr>\n",
       "  <th>population</th>                      <td> 3.826e-09</td> <td> 1.68e-09</td> <td>    2.280</td> <td> 0.023</td> <td> 5.36e-10</td> <td> 7.12e-09</td>\n",
       "</tr>\n",
       "<tr>\n",
       "  <th>thin_1</th>                          <td>   -0.0975</td> <td>    0.051</td> <td>   -1.898</td> <td> 0.058</td> <td>   -0.198</td> <td>    0.003</td>\n",
       "</tr>\n",
       "<tr>\n",
       "  <th>thin_5</th>                          <td>    0.0376</td> <td>    0.051</td> <td>    0.744</td> <td> 0.457</td> <td>   -0.062</td> <td>    0.137</td>\n",
       "</tr>\n",
       "<tr>\n",
       "  <th>income_composition_of_resources</th> <td>    6.7337</td> <td>    0.649</td> <td>   10.378</td> <td> 0.000</td> <td>    5.461</td> <td>    8.006</td>\n",
       "</tr>\n",
       "<tr>\n",
       "  <th>schooling</th>                       <td>    0.6593</td> <td>    0.042</td> <td>   15.574</td> <td> 0.000</td> <td>    0.576</td> <td>    0.742</td>\n",
       "</tr>\n",
       "<tr>\n",
       "  <th>status_Developing</th>               <td>   -1.4069</td> <td>    0.277</td> <td>   -5.077</td> <td> 0.000</td> <td>   -1.950</td> <td>   -0.864</td>\n",
       "</tr>\n",
       "</table>\n",
       "<table class=\"simpletable\">\n",
       "<tr>\n",
       "  <th>Omnibus:</th>       <td>135.391</td> <th>  Durbin-Watson:     </th> <td>   0.707</td>\n",
       "</tr>\n",
       "<tr>\n",
       "  <th>Prob(Omnibus):</th> <td> 0.000</td>  <th>  Jarque-Bera (JB):  </th> <td> 369.769</td>\n",
       "</tr>\n",
       "<tr>\n",
       "  <th>Skew:</th>          <td>-0.208</td>  <th>  Prob(JB):          </th> <td>5.08e-81</td>\n",
       "</tr>\n",
       "<tr>\n",
       "  <th>Kurtosis:</th>      <td> 4.687</td>  <th>  Cond. No.          </th> <td>2.60e+10</td>\n",
       "</tr>\n",
       "</table><br/><br/>Warnings:<br/>[1] Standard Errors assume that the covariance matrix of the errors is correctly specified.<br/>[2] The condition number is large, 2.6e+10. This might indicate that there are<br/>strong multicollinearity or other numerical problems."
      ],
      "text/plain": [
       "<class 'statsmodels.iolib.summary.Summary'>\n",
       "\"\"\"\n",
       "                            OLS Regression Results                            \n",
       "==============================================================================\n",
       "Dep. Variable:                      y   R-squared:                       0.811\n",
       "Model:                            OLS   Adj. R-squared:                  0.810\n",
       "Method:                 Least Squares   F-statistic:                     658.1\n",
       "Date:                Sat, 23 May 2020   Prob (F-statistic):               0.00\n",
       "Time:                        06:06:56   Log-Likelihood:                -8339.4\n",
       "No. Observations:                2938   AIC:                         1.672e+04\n",
       "Df Residuals:                    2918   BIC:                         1.684e+04\n",
       "Df Model:                          19                                         \n",
       "Covariance Type:            nonrobust                                         \n",
       "===================================================================================================\n",
       "                                      coef    std err          t      P>|t|      [0.025      0.975]\n",
       "---------------------------------------------------------------------------------------------------\n",
       "const                              94.0603     35.558      2.645      0.008      24.339     163.781\n",
       "year                               -0.0195      0.018     -1.098      0.272      -0.054       0.015\n",
       "adult_mortality                    -0.0200      0.001    -24.505      0.000      -0.022      -0.018\n",
       "infant_deaths                      -0.0017      0.001     -1.752      0.080      -0.004       0.000\n",
       "alcohol                             0.0148      0.025      0.584      0.559      -0.035       0.064\n",
       "percentage_expenditure              0.0003    6.9e-05      4.297      0.000       0.000       0.000\n",
       "hepatitis_b                        -0.0112      0.004     -3.109      0.002      -0.018      -0.004\n",
       "measles                         -3.612e-05   7.85e-06     -4.602      0.000   -5.15e-05   -2.07e-05\n",
       "bmi                                 0.0485      0.005      9.741      0.000       0.039       0.058\n",
       "polio                               0.0286      0.005      6.252      0.000       0.020       0.038\n",
       "total_expenditure                   0.0400      0.035      1.152      0.249      -0.028       0.108\n",
       "diphtheria                          0.0481      0.005     10.154      0.000       0.039       0.057\n",
       "hivaids                            -0.4846      0.018    -26.817      0.000      -0.520      -0.449\n",
       "gdp                              1.036e-06   9.91e-06      0.105      0.917   -1.84e-05    2.05e-05\n",
       "population                       3.826e-09   1.68e-09      2.280      0.023    5.36e-10    7.12e-09\n",
       "thin_1                             -0.0975      0.051     -1.898      0.058      -0.198       0.003\n",
       "thin_5                              0.0376      0.051      0.744      0.457      -0.062       0.137\n",
       "income_composition_of_resources     6.7337      0.649     10.378      0.000       5.461       8.006\n",
       "schooling                           0.6593      0.042     15.574      0.000       0.576       0.742\n",
       "status_Developing                  -1.4069      0.277     -5.077      0.000      -1.950      -0.864\n",
       "==============================================================================\n",
       "Omnibus:                      135.391   Durbin-Watson:                   0.707\n",
       "Prob(Omnibus):                  0.000   Jarque-Bera (JB):              369.769\n",
       "Skew:                          -0.208   Prob(JB):                     5.08e-81\n",
       "Kurtosis:                       4.687   Cond. No.                     2.60e+10\n",
       "==============================================================================\n",
       "\n",
       "Warnings:\n",
       "[1] Standard Errors assume that the covariance matrix of the errors is correctly specified.\n",
       "[2] The condition number is large, 2.6e+10. This might indicate that there are\n",
       "strong multicollinearity or other numerical problems.\n",
       "\"\"\""
      ]
     },
     "execution_count": 62,
     "metadata": {},
     "output_type": "execute_result"
    }
   ],
   "source": [
    "X_new=sm.add_constant(X_new)\n",
    "model_new=sm.OLS(y_new,X_new).fit()\n",
    "model_new.summary()"
   ]
  },
  {
   "cell_type": "markdown",
   "metadata": {},
   "source": [
    "From the summary above we got a value of <b>0.810</b> for Adj.R-Squared model 2. This value is close enough with Adj. R-Squared in model 1"
   ]
  },
  {
   "cell_type": "markdown",
   "metadata": {},
   "source": [
    "<h3>Evaluate model performance 2</h3><br>"
   ]
  },
  {
   "cell_type": "code",
   "execution_count": 82,
   "metadata": {
    "ExecuteTime": {
     "end_time": "2020-05-23T02:17:58.336424Z",
     "start_time": "2020-05-23T02:17:58.328425Z"
    }
   },
   "outputs": [
    {
     "name": "stdout",
     "output_type": "stream",
     "text": [
      "Mean Absolute Error: 2.931863409445781\n",
      "Mean Squared Error: 15.923368406123336\n",
      "Root Mean Squared Error: 3.9904095536828468\n"
     ]
    }
   ],
   "source": [
    "print('Mean Absolute Error:', metrics.mean_absolute_error(y_test_new, predictions_new))  \n",
    "print('Mean Squared Error:', metrics.mean_squared_error(y_test_new, predictions_new))  \n",
    "print('Root Mean Squared Error:', np.sqrt(metrics.mean_squared_error(y_test_new, predictions_new)))"
   ]
  },
  {
   "cell_type": "markdown",
   "metadata": {},
   "source": [
    "<h3>Assumption Check Model 2</h3>"
   ]
  },
  {
   "cell_type": "markdown",
   "metadata": {},
   "source": [
    "<h4>Homoscedasticity</h4><br>\n",
    "The model assumes that the error term has mean 0 and equal variance at all levels of the independent variables. A scatter plot of residual values vs predicted values is a way to check for homoscedasticity. There should be no pattern in this distribution and have spread of values close enough with 0."
   ]
  },
  {
   "cell_type": "code",
   "execution_count": 70,
   "metadata": {
    "ExecuteTime": {
     "end_time": "2020-05-23T00:54:52.476821Z",
     "start_time": "2020-05-23T00:54:52.179117Z"
    }
   },
   "outputs": [
    {
     "data": {
      "text/plain": [
       "Text(0, 0.5, 'Residual')"
      ]
     },
     "execution_count": 70,
     "metadata": {},
     "output_type": "execute_result"
    },
    {
     "data": {
      "image/png": "[encoded data removed]",
      "text/plain": [
       "<Figure size 432x288 with 1 Axes>"
      ]
     },
     "metadata": {
      "needs_background": "light"
     },
     "output_type": "display_data"
    }
   ],
   "source": [
    "residual = y_test_new - predictions_new\n",
    "sns.scatterplot(y_test_new,residual)\n",
    "plt.title('Residual Error')\n",
    "plt.xlabel('Test Value')\n",
    "plt.ylabel('Residual')"
   ]
  },
  {
   "cell_type": "markdown",
   "metadata": {},
   "source": [
    "<h4>Normality</h4>"
   ]
  },
  {
   "cell_type": "markdown",
   "metadata": {},
   "source": [
    "Normality assume that the error(residuals) follow a normal distribution. To determined whether the residual normally distributed or not, there are several test that might be to consider, one of them is Shapiro Wilk test. Statistical hypotesis for Shapiro Wilk test is :<br>\n",
    "\n",
    "<b>H0 :</b>Residuals are normally distributed<br>\n",
    "<b>H1 :</b>Residuals are not normally distributed<br>\n",
    "\n",
    "If the p-value < 0.05, then the H0 is rejected. If p-value > 0.05, then the H0 failed to reject\n",
    "\n",
    "\n",
    "\n"
   ]
  },
  {
   "cell_type": "code",
   "execution_count": 71,
   "metadata": {
    "ExecuteTime": {
     "end_time": "2020-05-23T00:54:54.933602Z",
     "start_time": "2020-05-23T00:54:54.885594Z"
    }
   },
   "outputs": [
    {
     "name": "stdout",
     "output_type": "stream",
     "text": [
      "Statistic: 0.9781296253204346, p-value: 1.0726191135290719e-07\n",
      "p-value < alpha, Reject H0\n"
     ]
    }
   ],
   "source": [
    "from scipy.stats import shapiro\n",
    "\n",
    "# normality test\n",
    "stat, p = shapiro(residual)\n",
    "print(\"Statistic: {}, p-value: {}\".format(stat, p))\n",
    "# interpret\n",
    "alpha = 0.05\n",
    "if p > alpha:\n",
    "    print('p-value > alpha, Fail to reject H0')\n",
    "else:\n",
    "    print('p-value < alpha, Reject H0')"
   ]
  },
  {
   "cell_type": "markdown",
   "metadata": {},
   "source": [
    "Result above shown that hypotesis null value (H0) is rejected, so the conclusion is Residuals are not normally distributed."
   ]
  },
  {
   "cell_type": "markdown",
   "metadata": {},
   "source": [
    "<h3>C. Model 3 : Using data without outliers</h3>"
   ]
  },
  {
   "cell_type": "markdown",
   "metadata": {},
   "source": [
    "In this third modelling steps, we create new model without outliers to predict whether the outliers affect to our normality of residuals or not."
   ]
  },
  {
   "cell_type": "code",
   "execution_count": 72,
   "metadata": {
    "ExecuteTime": {
     "end_time": "2020-05-23T00:54:55.537641Z",
     "start_time": "2020-05-23T00:54:55.529641Z"
    }
   },
   "outputs": [],
   "source": [
    "X_model_new = data_without_outliers.drop([\"life_expectancy\"], axis = 1)\n",
    "y_model_3 = data_without_outliers.life_expectancy.values"
   ]
  },
  {
   "cell_type": "code",
   "execution_count": 73,
   "metadata": {
    "ExecuteTime": {
     "end_time": "2020-05-23T00:54:56.229944Z",
     "start_time": "2020-05-23T00:54:56.104839Z"
    }
   },
   "outputs": [],
   "source": [
    "X_model_3 = pd.get_dummies(X_new_mod, columns = data_without_outliers.select_dtypes('category').columns, drop_first = True)"
   ]
  },
  {
   "cell_type": "code",
   "execution_count": 74,
   "metadata": {
    "ExecuteTime": {
     "end_time": "2020-05-23T00:54:57.028509Z",
     "start_time": "2020-05-23T00:54:56.796295Z"
    }
   },
   "outputs": [
    {
     "name": "stdout",
     "output_type": "stream",
     "text": [
      "X Train: (2350, 19)\n",
      "X Test: (588, 19)\n",
      "y Train: (2350,)\n",
      "y Test: (588,)\n"
     ]
    }
   ],
   "source": [
    "X_train_3, X_test_3, y_train_3, y_test_3 = train_test_split(X_model_3, y_model_3, test_size = 0.2, random_state = 42)\n",
    "print(\"X Train:\", X_train_new.shape)\n",
    "print(\"X Test:\", X_test_new.shape)\n",
    "print(\"y Train:\", y_train_new.shape)\n",
    "print(\"y Test:\", y_test_new.shape)"
   ]
  },
  {
   "cell_type": "code",
   "execution_count": 75,
   "metadata": {
    "ExecuteTime": {
     "end_time": "2020-05-23T00:54:58.036632Z",
     "start_time": "2020-05-23T00:54:57.663361Z"
    }
   },
   "outputs": [
    {
     "data": {
      "text/plain": [
       "LinearRegression(copy_X=True, fit_intercept=True, n_jobs=None, normalize=False)"
      ]
     },
     "execution_count": 75,
     "metadata": {},
     "output_type": "execute_result"
    }
   ],
   "source": [
    "lm_new_3 = LinearRegression()\n",
    "lm_new_3.fit(X_train_3,y_train_3)"
   ]
  },
  {
   "cell_type": "code",
   "execution_count": 78,
   "metadata": {
    "ExecuteTime": {
     "end_time": "2020-05-23T00:55:00.402896Z",
     "start_time": "2020-05-23T00:55:00.037677Z"
    }
   },
   "outputs": [
    {
     "data": {
      "text/html": [
       "<table class=\"simpletable\">\n",
       "<caption>OLS Regression Results</caption>\n",
       "<tr>\n",
       "  <th>Dep. Variable:</th>            <td>y</td>        <th>  R-squared:         </th> <td>   0.812</td> \n",
       "</tr>\n",
       "<tr>\n",
       "  <th>Model:</th>                   <td>OLS</td>       <th>  Adj. R-squared:    </th> <td>   0.811</td> \n",
       "</tr>\n",
       "<tr>\n",
       "  <th>Method:</th>             <td>Least Squares</td>  <th>  F-statistic:       </th> <td>   663.1</td> \n",
       "</tr>\n",
       "<tr>\n",
       "  <th>Date:</th>             <td>Sat, 23 May 2020</td> <th>  Prob (F-statistic):</th>  <td>  0.00</td>  \n",
       "</tr>\n",
       "<tr>\n",
       "  <th>Time:</th>                 <td>07:55:00</td>     <th>  Log-Likelihood:    </th> <td> -8316.2</td> \n",
       "</tr>\n",
       "<tr>\n",
       "  <th>No. Observations:</th>      <td>  2938</td>      <th>  AIC:               </th> <td>1.667e+04</td>\n",
       "</tr>\n",
       "<tr>\n",
       "  <th>Df Residuals:</th>          <td>  2918</td>      <th>  BIC:               </th> <td>1.679e+04</td>\n",
       "</tr>\n",
       "<tr>\n",
       "  <th>Df Model:</th>              <td>    19</td>      <th>                     </th>     <td> </td>    \n",
       "</tr>\n",
       "<tr>\n",
       "  <th>Covariance Type:</th>      <td>nonrobust</td>    <th>                     </th>     <td> </td>    \n",
       "</tr>\n",
       "</table>\n",
       "<table class=\"simpletable\">\n",
       "<tr>\n",
       "                 <td></td>                    <th>coef</th>     <th>std err</th>      <th>t</th>      <th>P>|t|</th>  <th>[0.025</th>    <th>0.975]</th>  \n",
       "</tr>\n",
       "<tr>\n",
       "  <th>const</th>                           <td>   99.8847</td> <td>   35.278</td> <td>    2.831</td> <td> 0.005</td> <td>   30.713</td> <td>  169.056</td>\n",
       "</tr>\n",
       "<tr>\n",
       "  <th>year</th>                            <td>   -0.0225</td> <td>    0.018</td> <td>   -1.274</td> <td> 0.203</td> <td>   -0.057</td> <td>    0.012</td>\n",
       "</tr>\n",
       "<tr>\n",
       "  <th>adult_mortality</th>                 <td>   -0.0196</td> <td>    0.001</td> <td>  -24.268</td> <td> 0.000</td> <td>   -0.021</td> <td>   -0.018</td>\n",
       "</tr>\n",
       "<tr>\n",
       "  <th>infant_deaths</th>                   <td>   -0.0017</td> <td>    0.001</td> <td>   -1.748</td> <td> 0.081</td> <td>   -0.004</td> <td>    0.000</td>\n",
       "</tr>\n",
       "<tr>\n",
       "  <th>alcohol</th>                         <td>    0.0131</td> <td>    0.025</td> <td>    0.521</td> <td> 0.603</td> <td>   -0.036</td> <td>    0.062</td>\n",
       "</tr>\n",
       "<tr>\n",
       "  <th>percentage_expenditure</th>          <td>    0.0003</td> <td> 6.84e-05</td> <td>    4.343</td> <td> 0.000</td> <td>    0.000</td> <td>    0.000</td>\n",
       "</tr>\n",
       "<tr>\n",
       "  <th>hepatitis_b</th>                     <td>   -0.0105</td> <td>    0.004</td> <td>   -2.920</td> <td> 0.004</td> <td>   -0.017</td> <td>   -0.003</td>\n",
       "</tr>\n",
       "<tr>\n",
       "  <th>measles</th>                         <td>-3.621e-05</td> <td> 7.79e-06</td> <td>   -4.650</td> <td> 0.000</td> <td>-5.15e-05</td> <td>-2.09e-05</td>\n",
       "</tr>\n",
       "<tr>\n",
       "  <th>bmi</th>                             <td>    0.0485</td> <td>    0.005</td> <td>    9.807</td> <td> 0.000</td> <td>    0.039</td> <td>    0.058</td>\n",
       "</tr>\n",
       "<tr>\n",
       "  <th>polio</th>                           <td>    0.0286</td> <td>    0.005</td> <td>    6.286</td> <td> 0.000</td> <td>    0.020</td> <td>    0.037</td>\n",
       "</tr>\n",
       "<tr>\n",
       "  <th>total_expenditure</th>               <td>    0.0522</td> <td>    0.034</td> <td>    1.515</td> <td> 0.130</td> <td>   -0.015</td> <td>    0.120</td>\n",
       "</tr>\n",
       "<tr>\n",
       "  <th>diphtheria</th>                      <td>    0.0475</td> <td>    0.005</td> <td>   10.110</td> <td> 0.000</td> <td>    0.038</td> <td>    0.057</td>\n",
       "</tr>\n",
       "<tr>\n",
       "  <th>hivaids</th>                         <td>   -0.4830</td> <td>    0.018</td> <td>  -26.941</td> <td> 0.000</td> <td>   -0.518</td> <td>   -0.448</td>\n",
       "</tr>\n",
       "<tr>\n",
       "  <th>gdp</th>                             <td> 1.243e-06</td> <td> 9.83e-06</td> <td>    0.126</td> <td> 0.899</td> <td> -1.8e-05</td> <td> 2.05e-05</td>\n",
       "</tr>\n",
       "<tr>\n",
       "  <th>population</th>                      <td> 3.899e-09</td> <td> 1.66e-09</td> <td>    2.342</td> <td> 0.019</td> <td> 6.35e-10</td> <td> 7.16e-09</td>\n",
       "</tr>\n",
       "<tr>\n",
       "  <th>thin_1</th>                          <td>   -0.0983</td> <td>    0.051</td> <td>   -1.929</td> <td> 0.054</td> <td>   -0.198</td> <td>    0.002</td>\n",
       "</tr>\n",
       "<tr>\n",
       "  <th>thin_5</th>                          <td>    0.0364</td> <td>    0.050</td> <td>    0.725</td> <td> 0.468</td> <td>   -0.062</td> <td>    0.135</td>\n",
       "</tr>\n",
       "<tr>\n",
       "  <th>income_composition_of_resources</th> <td>    6.7310</td> <td>    0.644</td> <td>   10.456</td> <td> 0.000</td> <td>    5.469</td> <td>    7.993</td>\n",
       "</tr>\n",
       "<tr>\n",
       "  <th>schooling</th>                       <td>    0.6594</td> <td>    0.042</td> <td>   15.701</td> <td> 0.000</td> <td>    0.577</td> <td>    0.742</td>\n",
       "</tr>\n",
       "<tr>\n",
       "  <th>status_Developing</th>               <td>   -1.4058</td> <td>    0.275</td> <td>   -5.114</td> <td> 0.000</td> <td>   -1.945</td> <td>   -0.867</td>\n",
       "</tr>\n",
       "</table>\n",
       "<table class=\"simpletable\">\n",
       "<tr>\n",
       "  <th>Omnibus:</th>       <td>99.065</td> <th>  Durbin-Watson:     </th> <td>   0.692</td>\n",
       "</tr>\n",
       "<tr>\n",
       "  <th>Prob(Omnibus):</th> <td> 0.000</td> <th>  Jarque-Bera (JB):  </th> <td> 244.799</td>\n",
       "</tr>\n",
       "<tr>\n",
       "  <th>Skew:</th>          <td>-0.135</td> <th>  Prob(JB):          </th> <td>6.96e-54</td>\n",
       "</tr>\n",
       "<tr>\n",
       "  <th>Kurtosis:</th>      <td> 4.388</td> <th>  Cond. No.          </th> <td>2.60e+10</td>\n",
       "</tr>\n",
       "</table><br/><br/>Warnings:<br/>[1] Standard Errors assume that the covariance matrix of the errors is correctly specified.<br/>[2] The condition number is large, 2.6e+10. This might indicate that there are<br/>strong multicollinearity or other numerical problems."
      ],
      "text/plain": [
       "<class 'statsmodels.iolib.summary.Summary'>\n",
       "\"\"\"\n",
       "                            OLS Regression Results                            \n",
       "==============================================================================\n",
       "Dep. Variable:                      y   R-squared:                       0.812\n",
       "Model:                            OLS   Adj. R-squared:                  0.811\n",
       "Method:                 Least Squares   F-statistic:                     663.1\n",
       "Date:                Sat, 23 May 2020   Prob (F-statistic):               0.00\n",
       "Time:                        07:55:00   Log-Likelihood:                -8316.2\n",
       "No. Observations:                2938   AIC:                         1.667e+04\n",
       "Df Residuals:                    2918   BIC:                         1.679e+04\n",
       "Df Model:                          19                                         \n",
       "Covariance Type:            nonrobust                                         \n",
       "===================================================================================================\n",
       "                                      coef    std err          t      P>|t|      [0.025      0.975]\n",
       "---------------------------------------------------------------------------------------------------\n",
       "const                              99.8847     35.278      2.831      0.005      30.713     169.056\n",
       "year                               -0.0225      0.018     -1.274      0.203      -0.057       0.012\n",
       "adult_mortality                    -0.0196      0.001    -24.268      0.000      -0.021      -0.018\n",
       "infant_deaths                      -0.0017      0.001     -1.748      0.081      -0.004       0.000\n",
       "alcohol                             0.0131      0.025      0.521      0.603      -0.036       0.062\n",
       "percentage_expenditure              0.0003   6.84e-05      4.343      0.000       0.000       0.000\n",
       "hepatitis_b                        -0.0105      0.004     -2.920      0.004      -0.017      -0.003\n",
       "measles                         -3.621e-05   7.79e-06     -4.650      0.000   -5.15e-05   -2.09e-05\n",
       "bmi                                 0.0485      0.005      9.807      0.000       0.039       0.058\n",
       "polio                               0.0286      0.005      6.286      0.000       0.020       0.037\n",
       "total_expenditure                   0.0522      0.034      1.515      0.130      -0.015       0.120\n",
       "diphtheria                          0.0475      0.005     10.110      0.000       0.038       0.057\n",
       "hivaids                            -0.4830      0.018    -26.941      0.000      -0.518      -0.448\n",
       "gdp                              1.243e-06   9.83e-06      0.126      0.899    -1.8e-05    2.05e-05\n",
       "population                       3.899e-09   1.66e-09      2.342      0.019    6.35e-10    7.16e-09\n",
       "thin_1                             -0.0983      0.051     -1.929      0.054      -0.198       0.002\n",
       "thin_5                              0.0364      0.050      0.725      0.468      -0.062       0.135\n",
       "income_composition_of_resources     6.7310      0.644     10.456      0.000       5.469       7.993\n",
       "schooling                           0.6594      0.042     15.701      0.000       0.577       0.742\n",
       "status_Developing                  -1.4058      0.275     -5.114      0.000      -1.945      -0.867\n",
       "==============================================================================\n",
       "Omnibus:                       99.065   Durbin-Watson:                   0.692\n",
       "Prob(Omnibus):                  0.000   Jarque-Bera (JB):              244.799\n",
       "Skew:                          -0.135   Prob(JB):                     6.96e-54\n",
       "Kurtosis:                       4.388   Cond. No.                     2.60e+10\n",
       "==============================================================================\n",
       "\n",
       "Warnings:\n",
       "[1] Standard Errors assume that the covariance matrix of the errors is correctly specified.\n",
       "[2] The condition number is large, 2.6e+10. This might indicate that there are\n",
       "strong multicollinearity or other numerical problems.\n",
       "\"\"\""
      ]
     },
     "execution_count": 78,
     "metadata": {},
     "output_type": "execute_result"
    }
   ],
   "source": [
    "X_model_3=sm.add_constant(X_model_3)\n",
    "model_new=sm.OLS(y_model_3,X_model_3).fit()\n",
    "model_new.summary()"
   ]
  },
  {
   "cell_type": "markdown",
   "metadata": {},
   "source": [
    "From the summary above we got a value of <b>0.811</b> for Adj.R-Squared model 1. This value is close enough with Adj. R-Squared in model 1 and model 2."
   ]
  },
  {
   "cell_type": "markdown",
   "metadata": {},
   "source": [
    "<h3>Evaluate model performance 3</h3><br>"
   ]
  },
  {
   "cell_type": "code",
   "execution_count": 77,
   "metadata": {
    "ExecuteTime": {
     "end_time": "2020-05-23T00:54:59.398028Z",
     "start_time": "2020-05-23T00:54:59.280256Z"
    }
   },
   "outputs": [
    {
     "name": "stdout",
     "output_type": "stream",
     "text": [
      "Mean Absolute Error: 2.9244354135240695\n",
      "Mean Squared Error: 15.831132675405156\n",
      "Root Mean Squared Error: 3.978835592909709\n"
     ]
    }
   ],
   "source": [
    "print('Mean Absolute Error:', metrics.mean_absolute_error(y_test_3, predictions_model_3))  \n",
    "print('Mean Squared Error:', metrics.mean_squared_error(y_test_3, predictions_model_3))  \n",
    "print('Root Mean Squared Error:', np.sqrt(metrics.mean_squared_error(y_test_3, predictions_model_3)))"
   ]
  },
  {
   "cell_type": "markdown",
   "metadata": {},
   "source": [
    "<h3>Assumption Check Model 3</h3>\n"
   ]
  },
  {
   "cell_type": "markdown",
   "metadata": {},
   "source": [
    "<h4>Normality</h4>"
   ]
  },
  {
   "cell_type": "code",
   "execution_count": 79,
   "metadata": {
    "ExecuteTime": {
     "end_time": "2020-05-23T00:55:05.990275Z",
     "start_time": "2020-05-23T00:55:05.982273Z"
    },
    "scrolled": true
   },
   "outputs": [
    {
     "name": "stdout",
     "output_type": "stream",
     "text": [
      "Statistic: 0.9786660075187683, p-value: 1.4784544077883766e-07\n",
      "p-value < alpha, Reject H0\n"
     ]
    }
   ],
   "source": [
    "from scipy.stats import shapiro\n",
    "\n",
    "residual3 = y_test_3 - predictions_model_3\n",
    "\n",
    "# normality test\n",
    "stat, p = shapiro(residual3)\n",
    "print(\"Statistic: {}, p-value: {}\".format(stat, p))\n",
    "# interpret\n",
    "alpha = 0.05\n",
    "if p > alpha:\n",
    "    print('p-value > alpha, Fail to reject H0')\n",
    "else:\n",
    "    print('p-value < alpha, Reject H0')"
   ]
  },
  {
   "cell_type": "markdown",
   "metadata": {},
   "source": [
    "Unfortunately, the result above still shown that hypotesis null are rejected. So, outlier is not a factor which affect in un-normally distributed residuals."
   ]
  },
  {
   "cell_type": "markdown",
   "metadata": {},
   "source": [
    "<h2>Model Comparison</h2>"
   ]
  },
  {
   "cell_type": "code",
   "execution_count": 84,
   "metadata": {
    "ExecuteTime": {
     "end_time": "2020-05-23T02:25:19.118293Z",
     "start_time": "2020-05-23T02:25:19.018284Z"
    }
   },
   "outputs": [
    {
     "data": {
      "text/html": [
       "<div>\n",
       "<style scoped>\n",
       "    .dataframe tbody tr th:only-of-type {\n",
       "        vertical-align: middle;\n",
       "    }\n",
       "\n",
       "    .dataframe tbody tr th {\n",
       "        vertical-align: top;\n",
       "    }\n",
       "\n",
       "    .dataframe thead th {\n",
       "        text-align: right;\n",
       "    }\n",
       "</style>\n",
       "<table border=\"1\" class=\"dataframe\">\n",
       "  <thead>\n",
       "    <tr style=\"text-align: right;\">\n",
       "      <th></th>\n",
       "      <th>Model</th>\n",
       "      <th>Adj.R-Squared</th>\n",
       "      <th>RMSE</th>\n",
       "    </tr>\n",
       "  </thead>\n",
       "  <tbody>\n",
       "    <tr>\n",
       "      <th>0</th>\n",
       "      <td>Model 1 - using original data</td>\n",
       "      <td>0.818</td>\n",
       "      <td>3.850</td>\n",
       "    </tr>\n",
       "    <tr>\n",
       "      <th>1</th>\n",
       "      <td>Model 2 - without multicolinearity</td>\n",
       "      <td>0.810</td>\n",
       "      <td>3.990</td>\n",
       "    </tr>\n",
       "    <tr>\n",
       "      <th>2</th>\n",
       "      <td>Model 3 - without outliers</td>\n",
       "      <td>0.811</td>\n",
       "      <td>3.979</td>\n",
       "    </tr>\n",
       "  </tbody>\n",
       "</table>\n",
       "</div>"
      ],
      "text/plain": [
       "                                Model  Adj.R-Squared  RMSE\n",
       "0       Model 1 - using original data          0.818 3.850\n",
       "1  Model 2 - without multicolinearity          0.810 3.990\n",
       "2          Model 3 - without outliers          0.811 3.979"
      ]
     },
     "execution_count": 84,
     "metadata": {},
     "output_type": "execute_result"
    }
   ],
   "source": [
    "comparison = {'Model': ['Model 1 - using original data', 'Model 2 - without multicolinearity', 'Model 3 - without outliers'],\\\n",
    "              'Adj.R-Squared': [0.818, 0.810, 0.811],\\\n",
    "              'RMSE':[3.850,3.990,3.979]}\n",
    "pd.DataFrame.from_dict(comparison)"
   ]
  },
  {
   "cell_type": "markdown",
   "metadata": {},
   "source": [
    "A good model can be measure by RMSE or Adj.R-Squared value. Lower value of RMSE indicate better fit of models. From the table result above, Model 1 have the lowest RMSE value, but it's not the good model since Model 1 contains multicolinearity. In linear regression models, multicolinearity must be avoided, since multicolinearity causes coefficients become very sensitive to small changes in the model. So for better modelling in life expectancy data, I suggest you to use Model 3 with data without outliers."
   ]
  },
  {
   "cell_type": "markdown",
   "metadata": {},
   "source": [
    "<h2>Conclusion</h2>"
   ]
  },
  {
   "cell_type": "markdown",
   "metadata": {},
   "source": [
    "From the result above, we can conculde that :\n",
    "1. Variable income have strong positive linear relationship with life expectancy. From the summary in third models, income have coefficient value equal to 6.731, means that when unit of income increses, there is of increases 6.731 in life expectancy.<br>\n",
    "2. In model comparison steps, table shown that each models have close enough value in Adj.R-Squared and RMSE. High Adj.R-Squared value means that these three models good enough to predict life expectancy.<br>\n",
    "3. Only the normality which doesn't meet the assumption checking, means that these residuals in three models are not normally distributed.<br>\n",
    "4. Model 3 - data without outliers, is the best model to predict life expectancy, since it has low RMSE value and meet multicolinearity, linearity, and homoscedasticity assumption check.\n",
    "\n"
   ]
  }
 ],
 "metadata": {
  "kernelspec": {
   "display_name": "Python 3",
   "language": "python",
   "name": "python3"
  },
  "language_info": {
   "codemirror_mode": {
    "name": "ipython",
    "version": 3
   },
   "file_extension": ".py",
   "mimetype": "text/x-python",
   "name": "python",
   "nbconvert_exporter": "python",
   "pygments_lexer": "ipython3",
   "version": "3.7.6"
  },
  "latex_envs": {
   "LaTeX_envs_menu_present": true,
   "autoclose": false,
   "autocomplete": true,
   "bibliofile": "biblio.bib",
   "cite_by": "apalike",
   "current_citInitial": 1,
   "eqLabelWithNumbers": true,
   "eqNumInitial": 1,
   "hotkeys": {
    "equation": "Ctrl-E",
    "itemize": "Ctrl-I"
   },
   "labels_anchors": false,
   "latex_user_defs": false,
   "report_style_numbering": false,
   "user_envs_cfg": false
  },
  "varInspector": {
   "cols": {
    "lenName": 16,
    "lenType": 16,
    "lenVar": 40
   },
   "kernels_config": {
    "python": {
     "delete_cmd_postfix": "",
     "delete_cmd_prefix": "del ",
     "library": "var_list.py",
     "varRefreshCmd": "print(var_dic_list())"
    },
    "r": {
     "delete_cmd_postfix": ") ",
     "delete_cmd_prefix": "rm(",
     "library": "var_list.r",
     "varRefreshCmd": "cat(var_dic_list()) "
    }
   },
   "types_to_exclude": [
    "module",
    "function",
    "builtin_function_or_method",
    "instance",
    "_Feature"
   ],
   "window_display": false
  }
 },
 "nbformat": 4,
 "nbformat_minor": 4
}
